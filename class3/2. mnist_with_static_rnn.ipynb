{
 "cells": [
  {
   "cell_type": "code",
   "execution_count": 1,
   "metadata": {
    "collapsed": true,
    "deletable": true,
    "editable": true
   },
   "outputs": [],
   "source": [
    "import tensorflow as tf\n",
    "import numpy as np\n",
    "import matplotlib.pyplot as plt\n",
    "import seaborn\n",
    "seaborn.set(color_codes=True)\n",
    "from tensorflow.examples.tutorials.mnist import input_data"
   ]
  },
  {
   "cell_type": "code",
   "execution_count": 2,
   "metadata": {
    "collapsed": true,
    "deletable": true,
    "editable": true
   },
   "outputs": [],
   "source": [
    "XAVIER= tf.contrib.layers.xavier_initializer(uniform = True)\n",
    "CONST = tf.constant_initializer(0.0)\n",
    "NORMAL = tf.random_normal_initializer(mean = 0.0, stddev = 0.5)\n",
    "def image_print(image):\n",
    "    if image.ndim == 1:\n",
    "        image = np.reshape(image, [28, 28])\n",
    "    fig = plt.figure(figsize=(2, 2))\n",
    "    plt.imshow(image, cmap='gray')\n",
    "    plt.axis('off')\n",
    "    plt.show()\n",
    "\n",
    "def linear(input, output_dim, scope=None):\n",
    "    '''\n",
    "    operation :\n",
    "        input :\n",
    "            matrixes(a*b) dim = 2\n",
    "        input.get_shape() => (a, b)\n",
    "        input.get_shape()[1] => b\n",
    "        w => b*output_dim\n",
    "        tf.matmul(input, w ) => a * output_dim\n",
    "        b= > output_dim\n",
    "    return :\n",
    "        matrixes(a*output_dim) \n",
    "    '''\n",
    "    \n",
    "    with tf.variable_scope(scope or 'linear'):\n",
    "        w = tf.get_variable('w', [input.get_shape()[1], output_dim], initializer=XAVIER)\n",
    "        b = tf.get_variable('b', [output_dim], initializer=NORMAL)\n",
    "        return tf.matmul(input, w) + b\n",
    "\n",
    "def get_shape(tensor):\n",
    "    return tensor.get_shape().as_list()\n",
    "\n",
    "def clip(x, vmin = 1e-10, vmax = 1-1e-10):\n",
    "    return tf.clip_by_value(x, clip_value_max= vmax, clip_value_min= vmin)\n",
    "\n",
    "def change_var(sess, var, discount):\n",
    "    new_var = sess.run(var)*discount\n",
    "    sess.run(tf.assign(var, new_var))\n",
    "\n",
    "def print_keys(string):\n",
    "    i=0\n",
    "    while True:\n",
    "        try:\n",
    "            print(\"{} : {}\".format(tf.get_collection(string)[i].op.name, \n",
    "                                   get_shape(tf.get_collection(string)[i])))\n",
    "            i+=1\n",
    "        except IndexError:\n",
    "            break \n",
    "def mnist_load():\n",
    "    mnist = input_data.read_data_sets('../MNIST_data/', one_hot = True)\n",
    "    trX = mnist.train.images\n",
    "    trY = mnist.train.labels\n",
    "    teX = mnist.test.images\n",
    "    teY = mnist.test.labels\n",
    "    vaX = mnist.validation.images\n",
    "    vaY = mnist.validation.labels\n",
    "    \n",
    "    return trX, vaX, teX, trY, vaY, teY"
   ]
  },
  {
   "cell_type": "code",
   "execution_count": 3,
   "metadata": {
    "collapsed": false,
    "deletable": true,
    "editable": true
   },
   "outputs": [
    {
     "name": "stdout",
     "output_type": "stream",
     "text": [
      "Extracting ../MNIST_data/train-images-idx3-ubyte.gz\n",
      "Extracting ../MNIST_data/train-labels-idx1-ubyte.gz\n",
      "Extracting ../MNIST_data/t10k-images-idx3-ubyte.gz\n",
      "Extracting ../MNIST_data/t10k-labels-idx1-ubyte.gz\n"
     ]
    }
   ],
   "source": [
    "trX, vaX, teX, trY, vaY, teY = mnist_load()"
   ]
  },
  {
   "cell_type": "code",
   "execution_count": 4,
   "metadata": {
    "collapsed": true,
    "deletable": true,
    "editable": true
   },
   "outputs": [],
   "source": [
    "batch_size = 100\n",
    "batch_num = 550\n",
    "epoch = 20\n",
    "rnn_size = 100"
   ]
  },
  {
   "cell_type": "code",
   "execution_count": 5,
   "metadata": {
    "collapsed": false,
    "deletable": true,
    "editable": true
   },
   "outputs": [],
   "source": [
    "x = tf.placeholder(tf.float32, shape= [None, 27, 28])\n",
    "y = tf.placeholder(tf.float32, shape= [None, 27, 28])\n",
    "\n",
    "x_t = tf.transpose(x, [1,0,2])\n",
    "x_r = tf.reshape(x_t, [-1, 28])\n",
    "x_split = tf.split(x_r, 27, axis = 0)\n",
    "\n",
    "with tf.variable_scope(\"rnn\") as scope:\n",
    "    lstm_cell = tf.contrib.rnn.LSTMCell(rnn_size)\n",
    "    wrapped_cell = tf.contrib.rnn.OutputProjectionWrapper(lstm_cell, 28)\n",
    "    outputs, states = tf.contrib.rnn.static_rnn(wrapped_cell, x_split, dtype=tf.float32) \n",
    "\n",
    "outputs_stack = tf.stack(outputs)\n",
    "outputs_t = tf.transpose(tf.sigmoid(outputs_stack), [1, 0 , 2])\n",
    "error = tf.reduce_mean(tf.square(outputs_t-y))\n",
    "optimizer = tf.train.AdamOptimizer().minimize(error)"
   ]
  },
  {
   "cell_type": "markdown",
   "metadata": {
    "deletable": true,
    "editable": true
   },
   "source": [
    "# Restore"
   ]
  },
  {
   "cell_type": "code",
   "execution_count": 6,
   "metadata": {
    "collapsed": true,
    "deletable": true,
    "editable": true
   },
   "outputs": [],
   "source": [
    "sess = tf.Session()\n",
    "saver = tf.train.Saver()\n",
    "saver.restore(sess, './save/model')"
   ]
  },
  {
   "cell_type": "markdown",
   "metadata": {
    "deletable": true,
    "editable": true
   },
   "source": [
    "# Save"
   ]
  },
  {
   "cell_type": "code",
   "execution_count": 6,
   "metadata": {
    "collapsed": false,
    "deletable": true,
    "editable": true
   },
   "outputs": [
    {
     "name": "stdout",
     "output_type": "stream",
     "text": [
      "Epoch(1/20) cost = 33.14861681684852\n",
      "Epoch(2/20) cost = 13.669601697474718\n",
      "Epoch(3/20) cost = 10.972721122205257\n",
      "Epoch(4/20) cost = 10.040749965235591\n",
      "Epoch(5/20) cost = 9.544360952451825\n",
      "Epoch(6/20) cost = 9.207630536518991\n",
      "Epoch(7/20) cost = 8.95930362213403\n",
      "Epoch(8/20) cost = 8.76710882410407\n",
      "Epoch(9/20) cost = 8.596697371453047\n",
      "Epoch(10/20) cost = 8.4521568659693\n",
      "Epoch(11/20) cost = 8.31650786101818\n",
      "Epoch(12/20) cost = 8.199162852019072\n",
      "Epoch(13/20) cost = 8.097868864424527\n",
      "Epoch(14/20) cost = 8.000228277407587\n",
      "Epoch(15/20) cost = 7.910238256677985\n",
      "Epoch(16/20) cost = 7.826700121164322\n",
      "Epoch(17/20) cost = 7.7472029365599155\n",
      "Epoch(18/20) cost = 7.669380282983184\n",
      "Epoch(19/20) cost = 7.598661393858492\n",
      "Epoch(20/20) cost = 7.531620247289538\n"
     ]
    },
    {
     "data": {
      "text/plain": [
       "'./save/model'"
      ]
     },
     "execution_count": 6,
     "metadata": {},
     "output_type": "execute_result"
    }
   ],
   "source": [
    "sess = tf.Session()\n",
    "sess.run(tf.global_variables_initializer())\n",
    "for e in range(epoch):\n",
    "    index = np.arange(len(trY))\n",
    "    np.random.shuffle(index)\n",
    "    trX = trX[index]\n",
    "    trY = trY[index]\n",
    "    epoch_loss = 0 \n",
    "    for batch in range(batch_num):\n",
    "        train_batch = trX[batch*batch_size:(batch+1)*batch_size]\n",
    "        train_batch_r = np.reshape(train_batch, [batch_size, 28, 28])\n",
    "        input_batch = np.transpose(np.transpose(train_batch_r, [1, 0, 2])[:-1], [1,0,2])\n",
    "        output_batch = np.transpose(np.transpose(train_batch_r, [1, 0, 2])[1:], [1,0,2])\n",
    "        train_feed_dict = {x : input_batch, y : output_batch}\n",
    "        _, cost = sess.run([optimizer, error], feed_dict=train_feed_dict)\n",
    "        epoch_loss += cost\n",
    "    print('Epoch({}/{}) cost = {}'.format(e+1, epoch, epoch_loss))\n",
    "saver = tf.train.Saver()\n",
    "saver.save(sess, './save/model')"
   ]
  },
  {
   "cell_type": "code",
   "execution_count": 7,
   "metadata": {
    "collapsed": false,
    "deletable": true,
    "editable": true
   },
   "outputs": [],
   "source": [
    "def image_generator(image, keep_num = 14):\n",
    "    image_r = np.reshape(image, [28, 28])\n",
    "    image_restore = np.zeros((28,28))\n",
    "    for i in range(keep_num):\n",
    "        for j in range(28):\n",
    "            image_restore[i][j] = image_r[i][j]\n",
    "    for i in range(keep_num, 28):\n",
    "        restored = sess.run(outputs_t, feed_dict = {x : np.reshape(image_restore[:-1], [1, 27, 28])}) \n",
    "        for j in range(28):\n",
    "            image_restore[i][j] = restored[0][i-1][j]\n",
    "    return image_restore"
   ]
  },
  {
   "cell_type": "code",
   "execution_count": 14,
   "metadata": {
    "collapsed": false,
    "deletable": true,
    "editable": true
   },
   "outputs": [
    {
     "data": {
      "image/png": "[encoded data removed]",
      "text/plain": [
       "<matplotlib.figure.Figure at 0x7fcb6af47320>"
      ]
     },
     "metadata": {},
     "output_type": "display_data"
    },
    {
     "data": {
      "image/png": "[encoded data removed]",
      "text/plain": [
       "<matplotlib.figure.Figure at 0x7fcb6aed3048>"
      ]
     },
     "metadata": {},
     "output_type": "display_data"
    },
    {
     "data": {
      "image/png": "[encoded data removed]",
      "text/plain": [
       "<matplotlib.figure.Figure at 0x7fcb6fa248d0>"
      ]
     },
     "metadata": {},
     "output_type": "display_data"
    }
   ],
   "source": [
    "image_sample = np.reshape(teX[25], [28, 28])\n",
    "keep_row = 20\n",
    "image_clip = np.zeros((28,28))\n",
    "for i in range(keep_row):\n",
    "    for j in range(28):\n",
    "        image_clip[i][j] = image_sample[i][j]\n",
    "image_fake = image_generator(image_clip, keep_num=keep_row)\n",
    "image_print(image_sample)\n",
    "image_print(image_clip)\n",
    "image_print(image_fake)"
   ]
  }
 ],
 "metadata": {
  "kernelspec": {
   "display_name": "Python 3",
   "language": "python",
   "name": "python3"
  },
  "language_info": {
   "codemirror_mode": {
    "name": "ipython",
    "version": 3
   },
   "file_extension": ".py",
   "mimetype": "text/x-python",
   "name": "python",
   "nbconvert_exporter": "python",
   "pygments_lexer": "ipython3",
   "version": "3.4.5"
  }
 },
 "nbformat": 4,
 "nbformat_minor": 2
}
