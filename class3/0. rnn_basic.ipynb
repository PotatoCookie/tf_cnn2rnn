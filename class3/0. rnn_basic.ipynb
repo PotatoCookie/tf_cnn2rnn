{
 "cells": [
  {
   "cell_type": "code",
   "execution_count": 1,
   "metadata": {
    "collapsed": true,
    "deletable": true,
    "editable": true
   },
   "outputs": [],
   "source": [
    "import tensorflow as tf\n",
    "import numpy as np"
   ]
  },
  {
   "cell_type": "code",
   "execution_count": 2,
   "metadata": {
    "collapsed": true,
    "deletable": true,
    "editable": true
   },
   "outputs": [],
   "source": [
    "tf.contrib.rnn.Basic"
   ]
  },
  {
   "cell_type": "code",
   "execution_count": 4,
   "metadata": {
    "collapsed": true,
    "deletable": true,
    "editable": true
   },
   "outputs": [],
   "source": [
    "batch_size = 100\n",
    "batch_num = 550\n",
    "epoch = 20\n",
    "rnn_size = 100"
   ]
  },
  {
   "cell_type": "code",
   "execution_count": 5,
   "metadata": {
    "collapsed": false,
    "deletable": true,
    "editable": true
   },
   "outputs": [],
   "source": [
    "x = tf.placeholder(tf.float32, shape= [batch_size, 27, 28])\n",
    "y = tf.placeholder(tf.float32, shape= [batch_size, 27, 28])\n",
    "\n",
    "x_t = tf.transpose(x, [1,0,2])\n",
    "x_r = tf.reshape(x_t, [-1, 28])\n",
    "x_split = tf.split(x_r, 27, axis = 0)\n",
    "\n",
    "with tf.variable_scope(\"rnn\") as scope:\n",
    "    lstm_cell = tf.contrib.rnn.LSTMCell(rnn_size)\n",
    "    wrapped_cell = tf.contrib.rnn.OutputProjectionWrapper(lstm_cell, 28)\n",
    "    state = wrapped_cell.zero_state(batch_size, tf.float32)\n",
    "    outputs =[]\n",
    "    flag = 0\n",
    "    for input_ in x_split:\n",
    "        if flag==0:\n",
    "            flag = 1\n",
    "        else :\n",
    "            scope.reuse_variables()\n",
    "        output, state = wrapped_cell(input_, state)\n",
    "        outputs.append(output)\n",
    "outputs_stack = tf.stack(outputs)\n",
    "outputs_t = tf.transpose(tf.sigmoid(outputs_stack), [1, 0 , 2])\n",
    "error = tf.reduce_mean(tf.square(outputs_t-y))\n",
    "optimizer = tf.train.AdamOptimizer().minimize(error)"
   ]
  },
  {
   "cell_type": "markdown",
   "metadata": {
    "deletable": true,
    "editable": true
   },
   "source": [
    "# Restore"
   ]
  },
  {
   "cell_type": "code",
   "execution_count": 6,
   "metadata": {
    "collapsed": true,
    "deletable": true,
    "editable": true
   },
   "outputs": [],
   "source": [
    "sess = tf.Session()\n",
    "saver = tf.train.Saver()\n",
    "saver.restore(sess, './save/model')"
   ]
  },
  {
   "cell_type": "markdown",
   "metadata": {
    "deletable": true,
    "editable": true
   },
   "source": [
    "# Save"
   ]
  },
  {
   "cell_type": "code",
   "execution_count": 6,
   "metadata": {
    "collapsed": false,
    "deletable": true,
    "editable": true
   },
   "outputs": [
    {
     "name": "stdout",
     "output_type": "stream",
     "text": [
      "Epoch(1/20) cost = 32.33557625673711\n",
      "Epoch(2/20) cost = 13.942732561379671\n",
      "Epoch(3/20) cost = 11.265160931274295\n",
      "Epoch(4/20) cost = 10.28910299576819\n",
      "Epoch(5/20) cost = 9.738781850785017\n",
      "Epoch(6/20) cost = 9.377491219900548\n",
      "Epoch(7/20) cost = 9.105187994427979\n",
      "Epoch(8/20) cost = 8.886138005182147\n",
      "Epoch(9/20) cost = 8.698262969963253\n",
      "Epoch(10/20) cost = 8.51372071262449\n",
      "Epoch(11/20) cost = 8.368328304030001\n",
      "Epoch(12/20) cost = 8.253233629278839\n",
      "Epoch(13/20) cost = 8.121148313395679\n",
      "Epoch(14/20) cost = 8.006905706599355\n",
      "Epoch(15/20) cost = 7.913220424205065\n",
      "Epoch(16/20) cost = 7.80715283472091\n",
      "Epoch(17/20) cost = 7.722877790220082\n",
      "Epoch(18/20) cost = 7.632838002406061\n",
      "Epoch(19/20) cost = 7.559707438573241\n",
      "Epoch(20/20) cost = 7.480546614155173\n"
     ]
    },
    {
     "data": {
      "text/plain": [
       "'./save/model'"
      ]
     },
     "execution_count": 6,
     "metadata": {},
     "output_type": "execute_result"
    }
   ],
   "source": [
    "sess = tf.Session()\n",
    "sess.run(tf.global_variables_initializer())\n",
    "for e in range(epoch):\n",
    "    index = np.arange(len(trY))\n",
    "    np.random.shuffle(index)\n",
    "    trX = trX[index]\n",
    "    trY = trY[index]\n",
    "    epoch_loss = 0 \n",
    "    for batch in range(batch_num):\n",
    "        train_batch = trX[batch*batch_size:(batch+1)*batch_size]\n",
    "        train_batch_r = np.reshape(train_batch, [batch_size, 28, 28])\n",
    "        input_batch = np.transpose(np.transpose(train_batch_r, [1, 0, 2])[:-1], [1,0,2])\n",
    "        output_batch = np.transpose(np.transpose(train_batch_r, [1, 0, 2])[1:], [1,0,2])\n",
    "        train_feed_dict = {x : input_batch, y : output_batch}\n",
    "        _, cost = sess.run([optimizer, error], feed_dict=train_feed_dict)\n",
    "        epoch_loss += cost\n",
    "    print('Epoch({}/{}) cost = {}'.format(e+1, epoch, epoch_loss))\n",
    "saver = tf.train.Saver()\n",
    "saver.save(sess, './save/model')"
   ]
  }
 ],
 "metadata": {
  "kernelspec": {
   "display_name": "Python 3",
   "language": "python",
   "name": "python3"
  },
  "language_info": {
   "codemirror_mode": {
    "name": "ipython",
    "version": 3
   },
   "file_extension": ".py",
   "mimetype": "text/x-python",
   "name": "python",
   "nbconvert_exporter": "python",
   "pygments_lexer": "ipython3",
   "version": "3.4.5"
  }
 },
 "nbformat": 4,
 "nbformat_minor": 2
}
