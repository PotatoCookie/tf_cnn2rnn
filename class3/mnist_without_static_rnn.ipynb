{
 "cells": [
  {
   "cell_type": "code",
   "execution_count": 1,
   "metadata": {
    "collapsed": false,
    "deletable": true,
    "editable": true
   },
   "outputs": [],
   "source": [
    "import tensorflow as tf\n",
    "import numpy as np\n",
    "import matplotlib.pyplot as plt\n",
    "from tensorflow.examples.tutorials.mnist import input_data"
   ]
  },
  {
   "cell_type": "code",
   "execution_count": 2,
   "metadata": {
    "collapsed": false,
    "deletable": true,
    "editable": true
   },
   "outputs": [],
   "source": [
    "XAVIER= tf.contrib.layers.xavier_initializer(uniform = True)\n",
    "CONST = tf.constant_initializer(0.0)\n",
    "NORMAL = tf.random_normal_initializer(mean = 0.0, stddev = 0.5)\n",
    "\n",
    "def images_print(images, save_name=None):\n",
    "    batch = len(images)\n",
    "    row = int(np.sqrt(batch))\n",
    "    if row*row == batch:\n",
    "        images_r = np.reshape(images, [row,row, 28,28])\n",
    "        imap = np.transpose(images_r, [0,2,1,3])\n",
    "        imap_r = np.reshape(imap, [28*row, 28*row])\n",
    "        fig = plt.figure(figsize=(5, 5))\n",
    "        plt.imshow(imap_r, cmap='gray')\n",
    "        plt.axis('off')\n",
    "        if save_name is None:\n",
    "            plt.show()        \n",
    "        else:\n",
    "            plt.savefig(save_name)\n",
    "            plt.close(fig)\n",
    "        return\n",
    "    \n",
    "def linear(input, output_dim, scope=None):\n",
    "    '''\n",
    "    operation :\n",
    "        input :\n",
    "            matrixes(a*b) dim = 2\n",
    "        input.get_shape() => (a, b)\n",
    "        input.get_shape()[1] => b\n",
    "        w => b*output_dim\n",
    "        tf.matmul(input, w ) => a * output_dim\n",
    "        b= > output_dim\n",
    "    return :\n",
    "        matrixes(a*output_dim) \n",
    "    '''\n",
    "    \n",
    "    with tf.variable_scope(scope or 'linear'):\n",
    "        w = tf.get_variable('w', [input.get_shape()[1], output_dim], initializer=XAVIER)\n",
    "        b = tf.get_variable('b', [output_dim], initializer=NORMAL)\n",
    "        return tf.matmul(input, w) + b\n",
    "\n",
    "def get_shape(tensor):\n",
    "    return tensor.get_shape().as_list()\n",
    "\n",
    "def print_var(string):\n",
    "    '''\n",
    "        print var_name and var_shape in collection named string\n",
    "    '''\n",
    "    print(\"\\n\".join([\"{} : {}\".format(v.name, get_shape(v)) for v in tf.get_collection(string)]))"
   ]
  },
  {
   "cell_type": "code",
   "execution_count": 3,
   "metadata": {
    "collapsed": false,
    "deletable": true,
    "editable": true
   },
   "outputs": [
    {
     "name": "stdout",
     "output_type": "stream",
     "text": [
      "Extracting ../MNIST_data/train-images-idx3-ubyte.gz\n",
      "Extracting ../MNIST_data/train-labels-idx1-ubyte.gz\n",
      "Extracting ../MNIST_data/t10k-images-idx3-ubyte.gz\n",
      "Extracting ../MNIST_data/t10k-labels-idx1-ubyte.gz\n"
     ]
    }
   ],
   "source": [
    "mnist = input_data.read_data_sets('../MNIST_data', one_hot=True)"
   ]
  },
  {
   "cell_type": "code",
   "execution_count": 4,
   "metadata": {
    "collapsed": true,
    "deletable": true,
    "editable": true
   },
   "outputs": [],
   "source": [
    "train = {}\n",
    "test = {}\n",
    "val = {}\n",
    "train['input'] = mnist.train.images\n",
    "train['output'] = mnist.train.labels\n",
    "test['input'] = mnist.test.images\n",
    "test['output'] = mnist.test.labels\n",
    "val['input'] = mnist.validation.images\n",
    "val['output'] = mnist.validation.labels"
   ]
  },
  {
   "cell_type": "code",
   "execution_count": 5,
   "metadata": {
    "collapsed": true,
    "deletable": true,
    "editable": true
   },
   "outputs": [],
   "source": [
    "batch_size = 100\n",
    "batch_num = 550\n",
    "epoch = 20\n",
    "rnn_size = 128\n",
    "nsequences = 27\n",
    "output_size = input_size = 28"
   ]
  },
  {
   "cell_type": "code",
   "execution_count": 6,
   "metadata": {
    "collapsed": false,
    "deletable": true,
    "editable": true
   },
   "outputs": [],
   "source": [
    "x = tf.placeholder(tf.float32, shape= [batch_size, nsequences, input_size])\n",
    "y = tf.placeholder(tf.float32, shape= [batch_size, nsequences, output_size])\n",
    "\n",
    "x_t = tf.transpose(x, [1,0,2])\n",
    "x_r = tf.reshape(x_t, [-1, input_size])\n",
    "x_split = tf.split(x_r, nsequences, axis = 0)\n",
    "\n",
    "with tf.variable_scope(\"rnn\") as scope:\n",
    "    rnn_cell = tf.contrib.rnn.GRUCell(rnn_size)\n",
    "    wrapped_cell = tf.contrib.rnn.OutputProjectionWrapper(rnn_cell, output_size)\n",
    "    state = wrapped_cell.zero_state(batch_size, tf.float32)\n",
    "    outputs =[]\n",
    "    flag = 0\n",
    "    for input_ in x_split:\n",
    "        if flag==0:\n",
    "            flag = 1\n",
    "        else :\n",
    "            scope.reuse_variables()\n",
    "        output, state = wrapped_cell(input_, state)\n",
    "        outputs.append(output)\n",
    "outputs_stack = tf.stack(outputs)\n",
    "outputs_t = tf.transpose(tf.sigmoid(outputs_stack), [1, 0 , 2])\n",
    "square_error = tf.reduce_mean(tf.square(outputs_t-y))\n",
    "run_train = tf.train.AdamOptimizer().minimize(square_error)"
   ]
  },
  {
   "cell_type": "code",
   "execution_count": 7,
   "metadata": {
    "collapsed": false,
    "deletable": true,
    "editable": true
   },
   "outputs": [
    {
     "name": "stdout",
     "output_type": "stream",
     "text": [
      "rnn/output_projection_wrapper/gru_cell/gates/kernel:0 : [156, 256]\n",
      "rnn/output_projection_wrapper/gru_cell/gates/bias:0 : [256]\n",
      "rnn/output_projection_wrapper/gru_cell/candidate/kernel:0 : [156, 128]\n",
      "rnn/output_projection_wrapper/gru_cell/candidate/bias:0 : [128]\n",
      "rnn/output_projection_wrapper/kernel:0 : [128, 28]\n",
      "rnn/output_projection_wrapper/bias:0 : [28]\n"
     ]
    }
   ],
   "source": [
    "print_var(\"trainable_variables\")"
   ]
  },
  {
   "cell_type": "markdown",
   "metadata": {
    "deletable": true,
    "editable": true
   },
   "source": [
    "# Determine whether restore or not"
   ]
  },
  {
   "cell_type": "code",
   "execution_count": 8,
   "metadata": {
    "collapsed": true,
    "deletable": true,
    "editable": true
   },
   "outputs": [],
   "source": [
    "restore = False"
   ]
  },
  {
   "cell_type": "code",
   "execution_count": null,
   "metadata": {
    "collapsed": false,
    "deletable": true,
    "editable": true
   },
   "outputs": [],
   "source": [
    "sess = tf.Session()\n",
    "if restore:\n",
    "    saver = tf.train.Saver()\n",
    "    saver.restore(sess, './save1/model')\n",
    "else :\n",
    "    sess.run(tf.global_variables_initializer())\n",
    "    for e in range(epoch):\n",
    "        index = np.arange(len(train['input']))\n",
    "        np.random.shuffle(index)\n",
    "        trX = train['input'][index]\n",
    "        epoch_loss = 0 \n",
    "        for batch in range(batch_num):\n",
    "            train_batch = trX[batch*batch_size:(batch+1)*batch_size]\n",
    "            train_batch_r = np.reshape(train_batch, [batch_size, 28, 28])\n",
    "            input_batch = np.transpose(np.transpose(train_batch_r, [1, 0, 2])[:-1], [1,0,2])\n",
    "            output_batch = np.transpose(np.transpose(train_batch_r, [1, 0, 2])[1:], [1,0,2])\n",
    "            train_feed_dict = {x : input_batch, y : output_batch}\n",
    "            _, cost = sess.run([run_train, square_error], feed_dict=train_feed_dict)\n",
    "            epoch_loss += cost\n",
    "        print('Epoch({}/{}) cost = {}'.format(e+1, epoch, epoch_loss))\n",
    "    saver = tf.train.Saver()\n",
    "    saver.save(sess, './save1/model')"
   ]
  },
  {
   "cell_type": "code",
   "execution_count": null,
   "metadata": {
    "collapsed": false,
    "deletable": true,
    "editable": true
   },
   "outputs": [],
   "source": [
    "def image_generator(images, keep_num = 14):\n",
    "    image_r = np.reshape(images, [batch_size, 28, 28])\n",
    "    image_t = np.transpose(image_r, [1,0,2])\n",
    "    image_restore = np.zeros((batch_size, 28, 28))\n",
    "    for i in range(batch_size):\n",
    "        for j in range(keep_num):\n",
    "            for k in range(28):\n",
    "                image_restore[i][j][k] = image_r[i][j][k] \n",
    "    with tf.variable_scope(\"rnn\") as scope:\n",
    "        for i in range(27):\n",
    "            if i == 0 :\n",
    "                state = wrapped_cell.zero_state(batch_size=batch_size, dtype=tf.float32)\n",
    "            scope.reuse_variables()\n",
    "            if i< keep_num-1:\n",
    "                restored_, state = wrapped_cell(tf.convert_to_tensor(image_t[i]), state) \n",
    "            else:\n",
    "                restored_, state = wrapped_cell(tf.sigmoid(restored_), state) \n",
    "                restored = sess.run(tf.sigmoid(restored_))\n",
    "                for j in range(batch_size):\n",
    "                    for k in range(28):\n",
    "                        image_restore[j][i+1][k] = restored[j][k]\n",
    "    return image_restore"
   ]
  },
  {
   "cell_type": "code",
   "execution_count": null,
   "metadata": {
    "collapsed": false,
    "deletable": true,
    "editable": true,
    "scrolled": false
   },
   "outputs": [],
   "source": [
    "start = 0\n",
    "image_sample = np.reshape(test['input'][start:start+batch_size], [batch_size, 28, 28])\n",
    "\n",
    "keep_row = 14\n",
    "image_clip = np.zeros((batch_size, 28, 28))\n",
    "for i in range(batch_size):\n",
    "    for j in range(keep_row):\n",
    "        for k in range(28):\n",
    "            image_clip[i][j][k] = image_sample[i][j][k]\n",
    "image_fake = image_generator(image_sample, keep_row)\n",
    "images_print(image_sample)\n",
    "images_print(image_clip)\n",
    "images_print(image_fake)"
   ]
  }
 ],
 "metadata": {
  "kernelspec": {
   "display_name": "Python 3",
   "language": "python",
   "name": "python3"
  },
  "language_info": {
   "codemirror_mode": {
    "name": "ipython",
    "version": 3
   },
   "file_extension": ".py",
   "mimetype": "text/x-python",
   "name": "python",
   "nbconvert_exporter": "python",
   "pygments_lexer": "ipython3",
   "version": "3.4.5"
  }
 },
 "nbformat": 4,
 "nbformat_minor": 2
}
