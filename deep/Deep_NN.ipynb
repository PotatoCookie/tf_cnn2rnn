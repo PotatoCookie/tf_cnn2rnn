{
 "cells": [
  {
   "cell_type": "code",
   "execution_count": 1,
   "metadata": {
    "collapsed": false,
    "deletable": true,
    "editable": true
   },
   "outputs": [],
   "source": [
    "from tensorflow.examples.tutorials.mnist import input_data\n",
    "import matplotlib.pyplot as plt\n",
    "import tensorflow as tf\n",
    "import numpy as np"
   ]
  },
  {
   "cell_type": "code",
   "execution_count": 2,
   "metadata": {
    "collapsed": true,
    "deletable": true,
    "editable": true
   },
   "outputs": [],
   "source": [
    "def get_shape(tensor):\n",
    "    \"return the shape of tensor as list\"\n",
    "    return tensor.get_shape().as_list()\n",
    "\n",
    "def print_var(string):\n",
    "    \"print var_name and var_shape in collection named string\"\n",
    "    print(\"\\n\".join([\"{} : {}\".format(v.name, get_shape(v)) for v in tf.get_collection(string)]))\n",
    "    \n",
    "def clip(x, vmax = 1, vmin = 1e-10):\n",
    "    \"clip the x between vmax, vmin\"\n",
    "    return tf.clip_by_value(x, clip_value_max=vmax, clip_value_min=vmin)\n",
    "\n",
    "def batch_norm(x, phase_train, name= None):\n",
    "    '''\n",
    "        batch normalization for 4D tensor\n",
    "    '''\n",
    "    nchannel = get_shape(x)[3]\n",
    "    with tf.variable_scope(name or \"batch_norm\"):\n",
    "        beta = tf.Variable(tf.constant(0.01, shape = [nchannel]), name = 'beta')\n",
    "        gamma = tf.Variable(tf.constant(1.0, shape = [nchannel]), name = 'gamma')\n",
    "        batch_mean, batch_var = tf.nn.moments(x, [0, 1, 2], name = 'moments')\n",
    "        ema = tf.train.ExponentialMovingAverage(decay = 0.7)\n",
    "        def mean_var_with_update():\n",
    "            ema_apply_op = ema.apply([batch_mean, batch_var])\n",
    "            with tf.control_dependencies([ema_apply_op]):\n",
    "                return tf.identity(batch_mean), tf.identity(batch_var) \n",
    "\n",
    "        mean, var = tf.cond(tf.cast(phase_train, tf.bool), mean_var_with_update, lambda:(ema.average(batch_mean), ema.average(batch_var))) \n",
    "    normed = tf.nn.batch_normalization(x=x, mean=mean, variance=var, offset=beta, scale=gamma, variance_epsilon=1e-3)\n",
    "    return normed\n",
    "\n",
    "def convolution_layer(input_, filter_shape, istrain, scope = None):\n",
    "    with tf.variable_scope(scope or \"convolution_layer\"):\n",
    "        w = tf.Variable(initial_value = tf.random_normal(shape = filter_shape, mean = 0.0, stddev = 0.1),\n",
    "                        name = 'weight')\n",
    "        conv = tf.nn.conv2d(input_, w, strides = [1, 1, 1, 1], padding = \"VALID\")\n",
    "        norm = batch_norm(conv, istrain) \n",
    "    return norm"
   ]
  },
  {
   "cell_type": "code",
   "execution_count": 3,
   "metadata": {
    "collapsed": false,
    "deletable": true,
    "editable": true
   },
   "outputs": [
    {
     "name": "stdout",
     "output_type": "stream",
     "text": [
      "Extracting ../MNIST_data/train-images-idx3-ubyte.gz\n",
      "Extracting ../MNIST_data/train-labels-idx1-ubyte.gz\n",
      "Extracting ../MNIST_data/t10k-images-idx3-ubyte.gz\n",
      "Extracting ../MNIST_data/t10k-labels-idx1-ubyte.gz\n"
     ]
    }
   ],
   "source": [
    "mnist = input_data.read_data_sets('../MNIST_data', one_hot=True)"
   ]
  },
  {
   "cell_type": "code",
   "execution_count": 4,
   "metadata": {
    "collapsed": false,
    "deletable": true,
    "editable": true
   },
   "outputs": [],
   "source": [
    "train = {}\n",
    "test = {}\n",
    "val = {}\n",
    "train['input'] = mnist.train.images\n",
    "train['output'] = mnist.train.labels\n",
    "test['input'] = mnist.test.images\n",
    "test['output'] = mnist.test.labels\n",
    "val['input'] = mnist.validation.images\n",
    "val['output'] = mnist.validation.labels"
   ]
  },
  {
   "cell_type": "code",
   "execution_count": 5,
   "metadata": {
    "collapsed": false,
    "deletable": true,
    "editable": true
   },
   "outputs": [],
   "source": [
    "# Model parameter\n",
    "image_size = 28*28\n",
    "image_row = 28\n",
    "conv_filter1 = [3, 3]\n",
    "conv_channel1 = 32\n",
    "conv_filter2 = [3, 3]\n",
    "conv_channel2 = 64\n",
    "conv_filter3 = [3, 3]\n",
    "conv_channel3 = 64\n",
    "conv_filter4 = [3, 3]\n",
    "conv_channel4 = 128\n",
    "conv_filter5 = [3, 3]\n",
    "conv_channel5 = 128\n",
    "conv_filter6 = [3, 3]\n",
    "conv_channel6 = 256\n",
    "conv_filter7 = [3, 3]\n",
    "conv_channel7 = 10\n",
    "nclasses = 10\n",
    "\n",
    "# Train parameter\n",
    "learning_rate = 1e-4\n",
    "epoch = 20\n",
    "ntrain = len(train['input'])\n",
    "batch_size = 200\n",
    "nbatch = ntrain//batch_size\n",
    "log_every = 50"
   ]
  },
  {
   "cell_type": "code",
   "execution_count": 6,
   "metadata": {
    "collapsed": true,
    "deletable": true,
    "editable": true
   },
   "outputs": [],
   "source": [
    "x = tf.placeholder(dtype = tf.float32, shape = [None, image_size], name = 'image')\n",
    "y = tf.placeholder(dtype = tf.float32, shape = [None, nclasses], name = 'label')\n",
    "istrain = tf.placeholder(dtype = tf.bool)\n",
    "\n",
    "x_reshape = tf.reshape(x, [-1, image_row, image_row, 1]) # 4D \n",
    "conv1 = convolution_layer(x_reshape, [conv_filter1[0], conv_filter1[1], 1, conv_channel1], istrain, \"conv_layer1\")\n",
    "# 26*26*32\n",
    "relu1 = tf.nn.relu(conv1)\n",
    "pool1 = tf.nn.max_pool(relu1, ksize = [1, 2, 2, 1], strides = [1, 2, 2, 1], padding = 'VALID')\n",
    "# 13*13*32\n",
    "conv2 = convolution_layer(pool1, [conv_filter2[0], conv_filter2[1], conv_channel1, conv_channel2], istrain, \"conv_layer2\")\n",
    "# 11*11*64\n",
    "relu2 = tf.nn.relu(conv2)\n",
    "conv3 = convolution_layer(relu2, [conv_filter3[0], conv_filter3[1], conv_channel2, conv_channel3], istrain, \"conv_layer3\")\n",
    "# 9*9*64\n",
    "relu3 = tf.nn.relu(conv3)\n",
    "conv4 = convolution_layer(relu3, [conv_filter3[0], conv_filter3[1], conv_channel3, conv_channel4], istrain, \"conv_layer4\")\n",
    "# 7*7*128\n",
    "relu4 = tf.nn.relu(conv4)\n",
    "conv5 = convolution_layer(relu4, [conv_filter3[0], conv_filter3[1], conv_channel4, conv_channel5], istrain, \"conv_layer5\")\n",
    "# 5*5*128\n",
    "relu5 = tf.nn.relu(conv5)\n",
    "conv6 = convolution_layer(relu5, [conv_filter3[0], conv_filter3[1], conv_channel5, conv_channel6], istrain, \"conv_layer6\")\n",
    "# 3*3*256\n",
    "relu6 = tf.nn.relu(conv6)\n",
    "conv7 = convolution_layer(relu6, [conv_filter3[0], conv_filter3[1], conv_channel6, conv_channel7], istrain, \"conv_layer7\")\n",
    "# 1*1*10"
   ]
  },
  {
   "cell_type": "code",
   "execution_count": 7,
   "metadata": {
    "collapsed": false,
    "deletable": true,
    "editable": true
   },
   "outputs": [],
   "source": [
    "conv_shape = get_shape(conv7)    \n",
    "flat_size = conv_shape[1]*conv_shape[2]*conv_shape[3]\n",
    "y_hat = tf.reshape(conv7, [-1, flat_size])"
   ]
  },
  {
   "cell_type": "code",
   "execution_count": 8,
   "metadata": {
    "collapsed": false,
    "deletable": true,
    "editable": true
   },
   "outputs": [
    {
     "name": "stdout",
     "output_type": "stream",
     "text": [
      "conv_layer1/weight:0 : [3, 3, 1, 32]\n",
      "conv_layer1/batch_norm/beta:0 : [32]\n",
      "conv_layer1/batch_norm/gamma:0 : [32]\n",
      "conv_layer2/weight:0 : [3, 3, 32, 64]\n",
      "conv_layer2/batch_norm/beta:0 : [64]\n",
      "conv_layer2/batch_norm/gamma:0 : [64]\n",
      "conv_layer3/weight:0 : [3, 3, 64, 64]\n",
      "conv_layer3/batch_norm/beta:0 : [64]\n",
      "conv_layer3/batch_norm/gamma:0 : [64]\n",
      "conv_layer4/weight:0 : [3, 3, 64, 128]\n",
      "conv_layer4/batch_norm/beta:0 : [128]\n",
      "conv_layer4/batch_norm/gamma:0 : [128]\n",
      "conv_layer5/weight:0 : [3, 3, 128, 128]\n",
      "conv_layer5/batch_norm/beta:0 : [128]\n",
      "conv_layer5/batch_norm/gamma:0 : [128]\n",
      "conv_layer6/weight:0 : [3, 3, 128, 256]\n",
      "conv_layer6/batch_norm/beta:0 : [256]\n",
      "conv_layer6/batch_norm/gamma:0 : [256]\n",
      "conv_layer7/weight:0 : [3, 3, 256, 10]\n",
      "conv_layer7/batch_norm/beta:0 : [10]\n",
      "conv_layer7/batch_norm/gamma:0 : [10]\n"
     ]
    }
   ],
   "source": [
    "print_var(\"trainable_variables\")"
   ]
  },
  {
   "cell_type": "code",
   "execution_count": 12,
   "metadata": {
    "collapsed": false,
    "deletable": true,
    "editable": true
   },
   "outputs": [],
   "source": [
    "cross_entropy = -tf.reduce_mean(y*tf.log(clip(y_hat)))\n",
    "\n",
    "correct_prediction = tf.equal(tf.argmax(y_hat, 1), tf.argmax(y, 1))\n",
    "accuracy = tf.reduce_mean(tf.cast(correct_prediction, tf.float32))\n",
    "\n",
    "run_train = tf.train.AdamOptimizer(learning_rate).minimize(cross_entropy)\n",
    "\n",
    "sess = tf.Session()\n",
    "sess.run(tf.global_variables_initializer())"
   ]
  },
  {
   "cell_type": "code",
   "execution_count": null,
   "metadata": {
    "collapsed": false,
    "deletable": true,
    "editable": true
   },
   "outputs": [
    {
     "name": "stdout",
     "output_type": "stream",
     "text": [
      "Epoch(1/20) 50 th batch train : 28.0 %, validation : 25.7 %\n"
     ]
    }
   ],
   "source": [
    "train_accuracy_tract = []\n",
    "val_accuracy_tract = []\n",
    "\n",
    "for epoch_ in range(epoch):\n",
    "    index = np.arange(len(train['input']))\n",
    "    np.random.shuffle(index)\n",
    "    trX = train['input'][index]\n",
    "    trY = train['output'][index]\n",
    "    val_feed_dict = {x : val['input'], \n",
    "                     y : val['output'],\n",
    "                     istrain : False}\n",
    "    \n",
    "    for nbatch_ in range(nbatch):\n",
    "        train_feed_dict = {x : trX[batch_size*nbatch_:batch_size*(nbatch_+1)], \n",
    "                           y : trY[batch_size*nbatch_:batch_size*(nbatch_+1)],\n",
    "                           istrain : True}\n",
    "        sess.run(run_train, feed_dict=train_feed_dict)\n",
    "        \n",
    "        if nbatch_%log_every == log_every - 1:\n",
    "            train_accuracy = 100*sess.run(accuracy, feed_dict=train_feed_dict)\n",
    "            val_accuracy = 100*sess.run(accuracy, feed_dict= val_feed_dict)\n",
    "            train_accuracy_tract.append(train_accuracy)\n",
    "            val_accuracy_tract.append(val_accuracy)\n",
    "            print(\"Epoch(%d/%d) %d th batch train : %.1f %%, validation : %.1f %%\"%(epoch_+1, epoch, nbatch_+1, train_accuracy, val_accuracy))\n",
    "\n",
    "test_feed_dict = {x : test['input'],  \n",
    "                  y : test['output'],\n",
    "                  istrain : False}\n",
    "\n",
    "test_accuracy = 100*sess.run(accuracy, feed_dict=test_feed_dict)\n",
    "print(\"Test accuracy=%.1f %%\"%(test_accuracy))\n",
    "\n",
    "plt.plot(train_accuracy_tract, 'r-', label = 'Train accuracy')\n",
    "plt.plot(val_accuracy_tract, 'b-', label = 'Validation accuracy')\n",
    "plt.legend()\n",
    "plt.show()"
   ]
  }
 ],
 "metadata": {
  "kernelspec": {
   "display_name": "Python 3",
   "language": "python",
   "name": "python3"
  },
  "language_info": {
   "codemirror_mode": {
    "name": "ipython",
    "version": 3
   },
   "file_extension": ".py",
   "mimetype": "text/x-python",
   "name": "python",
   "nbconvert_exporter": "python",
   "pygments_lexer": "ipython3",
   "version": "3.4.5"
  }
 },
 "nbformat": 4,
 "nbformat_minor": 2
}
