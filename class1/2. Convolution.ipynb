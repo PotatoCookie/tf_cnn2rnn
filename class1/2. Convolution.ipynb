{
 "cells": [
  {
   "cell_type": "code",
   "execution_count": 1,
   "metadata": {
    "collapsed": true,
    "deletable": true,
    "editable": true
   },
   "outputs": [],
   "source": [
    "import tensorflow as tf\n",
    "import numpy as np \n",
    "\n",
    "sess = tf.Session()"
   ]
  },
  {
   "cell_type": "code",
   "execution_count": 2,
   "metadata": {
    "collapsed": true
   },
   "outputs": [],
   "source": [
    "def print_tensor(tensor):\n",
    "    print(sess.run(tensor))\n",
    "def get_shape(tensor):\n",
    "    return tensor.get_shape().as_list()"
   ]
  },
  {
   "cell_type": "markdown",
   "metadata": {
    "deletable": true,
    "editable": true
   },
   "source": [
    "# get_shape(), print_tensor() usage"
   ]
  },
  {
   "cell_type": "code",
   "execution_count": 3,
   "metadata": {
    "collapsed": false,
    "deletable": true,
    "editable": true
   },
   "outputs": [
    {
     "data": {
      "text/plain": [
       "<tf.Tensor 'Const:0' shape=(2, 2) dtype=float32>"
      ]
     },
     "execution_count": 3,
     "metadata": {},
     "output_type": "execute_result"
    }
   ],
   "source": [
    "tensor1 = tf.constant(value = [[1, 2],[4, 8]], dtype = tf.float32)\n",
    "tensor1"
   ]
  },
  {
   "cell_type": "code",
   "execution_count": 4,
   "metadata": {
    "collapsed": false,
    "deletable": true,
    "editable": true
   },
   "outputs": [
    {
     "data": {
      "text/plain": [
       "[2, 2]"
      ]
     },
     "execution_count": 4,
     "metadata": {},
     "output_type": "execute_result"
    }
   ],
   "source": [
    "get_shape(tensor1)"
   ]
  },
  {
   "cell_type": "code",
   "execution_count": 5,
   "metadata": {
    "collapsed": false,
    "deletable": true,
    "editable": true
   },
   "outputs": [
    {
     "name": "stdout",
     "output_type": "stream",
     "text": [
      "[[ 1.  2.]\n",
      " [ 4.  8.]]\n"
     ]
    }
   ],
   "source": [
    "print_tensor(tensor1)"
   ]
  },
  {
   "cell_type": "markdown",
   "metadata": {
    "deletable": true,
    "editable": true
   },
   "source": [
    "# Convolution"
   ]
  },
  {
   "cell_type": "code",
   "execution_count": 6,
   "metadata": {
    "collapsed": true,
    "deletable": true,
    "editable": true
   },
   "outputs": [],
   "source": [
    "def mae_conv(input2d, filter2d, padding_option = True, strides = [1,1,1,1]):\n",
    "    '''\n",
    "    Args\n",
    "        input2d - 2d tensor\n",
    "        filter2d - 2d tensor\n",
    "        padding_option - boolean\n",
    "            defaults to be True\n",
    "            True => apply padding\n",
    "            False => apply no padding\n",
    "        strides - list\n",
    "            defaults to be [1,1,1,1]\n",
    "    '''\n",
    "    in_height, in_width = get_shape(input2d)\n",
    "    filter_height, filter_width = get_shape(filter2d)\n",
    "    input4d = tf.reshape(input2d, [1, in_height, in_width, 1]) # batch = 1, in_channel = 1\n",
    "    filter4d = tf.reshape(filter2d, [filter_height, filter_width, 1, 1]) #in_channel = 1, out_channel =1\n",
    "    padding = 'SAME' if padding_option else 'VALID'\n",
    "    conv = tf.nn.conv2d(input=input4d, filter = filter4d, strides = strides, padding=padding)\n",
    "    batch_, conv_height, conv_width, channel_ = get_shape(conv)\n",
    "    conv_r = tf.reshape(conv, [conv_height, conv_width])\n",
    "    return conv_r\n",
    "\n",
    "def mae_conv_tutorial(input2d, filter2d, padding_option = True, strides = [1,1,1,1]):\n",
    "    '''\n",
    "        mae_conv wrapper for tutorial \n",
    "    '''\n",
    "    print(\"Input {}\".format(get_shape(input2d)))\n",
    "    print_tensor(input2d)\n",
    "    print(\"Filter {}\".format(get_shape(filter2d)))\n",
    "    print_tensor(filter2d)\n",
    "    print(\"Padding : {}\".format(padding_option))\n",
    "    conv = mae_conv(input2d = input2d, filter2d = filter2d, padding_option = padding_option, strides = strides)\n",
    "    print(\"Conv_result : {}\".format(get_shape(conv)))\n",
    "    print_tensor(conv)"
   ]
  },
  {
   "cell_type": "code",
   "execution_count": 7,
   "metadata": {
    "collapsed": false,
    "deletable": true,
    "editable": true
   },
   "outputs": [],
   "source": [
    "input1 = tf.tile(tf.constant([[1,2],[4,8]], dtype = tf.float32), [2, 2])\n",
    "filter1 = tf.constant(value = [[1,0],[0,1]], dtype = tf.float32)\n",
    "filter2 = tf.constant(value = [[1, 1],[0, 0]], dtype = tf.float32)"
   ]
  },
  {
   "cell_type": "markdown",
   "metadata": {
    "deletable": true,
    "editable": true
   },
   "source": [
    "# Different filter"
   ]
  },
  {
   "cell_type": "code",
   "execution_count": 10,
   "metadata": {
    "collapsed": false,
    "deletable": true,
    "editable": true
   },
   "outputs": [
    {
     "name": "stdout",
     "output_type": "stream",
     "text": [
      "Input [4, 4]\n",
      "[[ 1.  2.  1.  2.]\n",
      " [ 4.  8.  4.  8.]\n",
      " [ 1.  2.  1.  2.]\n",
      " [ 4.  8.  4.  8.]]\n",
      "Filter [2, 2]\n",
      "[[ 1.  0.]\n",
      " [ 0.  1.]]\n",
      "Padding : False\n",
      "Conv_result : [3, 3]\n",
      "[[ 9.  6.  9.]\n",
      " [ 6.  9.  6.]\n",
      " [ 9.  6.  9.]]\n"
     ]
    }
   ],
   "source": [
    "mae_conv_tutorial(input1, filter1, padding_option = False, strides = [1,1,1,1])"
   ]
  },
  {
   "cell_type": "code",
   "execution_count": 11,
   "metadata": {
    "collapsed": false,
    "deletable": true,
    "editable": true
   },
   "outputs": [
    {
     "name": "stdout",
     "output_type": "stream",
     "text": [
      "Input [4, 4]\n",
      "[[ 1.  2.  1.  2.]\n",
      " [ 4.  8.  4.  8.]\n",
      " [ 1.  2.  1.  2.]\n",
      " [ 4.  8.  4.  8.]]\n",
      "Filter [2, 2]\n",
      "[[ 1.  1.]\n",
      " [ 0.  0.]]\n",
      "Padding : False\n",
      "Conv_result : [3, 3]\n",
      "[[  3.   3.   3.]\n",
      " [ 12.  12.  12.]\n",
      " [  3.   3.   3.]]\n"
     ]
    }
   ],
   "source": [
    "mae_conv_tutorial(input1, filter2, padding_option = False, strides = [1,1,1,1])"
   ]
  },
  {
   "cell_type": "markdown",
   "metadata": {
    "deletable": true,
    "editable": true
   },
   "source": [
    "# Padding true or not"
   ]
  },
  {
   "cell_type": "code",
   "execution_count": 12,
   "metadata": {
    "collapsed": false,
    "deletable": true,
    "editable": true
   },
   "outputs": [
    {
     "name": "stdout",
     "output_type": "stream",
     "text": [
      "Input [4, 4]\n",
      "[[ 1.  2.  1.  2.]\n",
      " [ 4.  8.  4.  8.]\n",
      " [ 1.  2.  1.  2.]\n",
      " [ 4.  8.  4.  8.]]\n",
      "Filter [2, 2]\n",
      "[[ 1.  0.]\n",
      " [ 0.  1.]]\n",
      "Padding : True\n",
      "Conv_result : [4, 4]\n",
      "[[ 9.  6.  9.  2.]\n",
      " [ 6.  9.  6.  8.]\n",
      " [ 9.  6.  9.  2.]\n",
      " [ 4.  8.  4.  8.]]\n"
     ]
    }
   ],
   "source": [
    "mae_conv_tutorial(input1, filter1, padding_option = True, strides = [1,1,1,1])"
   ]
  },
  {
   "cell_type": "markdown",
   "metadata": {},
   "source": [
    "# Different strides"
   ]
  },
  {
   "cell_type": "code",
   "execution_count": 13,
   "metadata": {
    "collapsed": false,
    "deletable": true,
    "editable": true
   },
   "outputs": [
    {
     "name": "stdout",
     "output_type": "stream",
     "text": [
      "Input [4, 4]\n",
      "[[ 1.  2.  1.  2.]\n",
      " [ 4.  8.  4.  8.]\n",
      " [ 1.  2.  1.  2.]\n",
      " [ 4.  8.  4.  8.]]\n",
      "Filter [2, 2]\n",
      "[[ 1.  0.]\n",
      " [ 0.  1.]]\n",
      "Padding : False\n",
      "Conv_result : [2, 3]\n",
      "[[ 9.  6.  9.]\n",
      " [ 9.  6.  9.]]\n"
     ]
    }
   ],
   "source": [
    "mae_conv_tutorial(input1, filter1, padding_option = False, strides = [1, 2, 1,1])"
   ]
  },
  {
   "cell_type": "markdown",
   "metadata": {
    "deletable": true,
    "editable": true
   },
   "source": [
    "# tf.nn.conv2d(input, filter, strides, padding)\n",
    "**input** : 4D tensor  \n",
    ">    input_shape : [batch, in_height, in_width, **in_channels**]    \n",
    "\n",
    "**filter** : 4D tensor  \n",
    ">    output_shape : [filter_height, filter_width, **in_channels**, out_channels]  \n",
    "\n",
    "** strides ** : 1D array with 4 elements, move the filter following directions   \n",
    ">    [batch, height, width, channel] \n",
    "  \n",
    "**padding** : string  \n",
    ">    \"SAME\" - padding to make same shape with input  \n",
    ">    \"VALID\" - no padding"
   ]
  },
  {
   "cell_type": "markdown",
   "metadata": {
    "deletable": true,
    "editable": true
   },
   "source": [
    "## Quiz 2"
   ]
  },
  {
   "cell_type": "markdown",
   "metadata": {
    "deletable": true,
    "editable": true
   },
   "source": [
    "When **strides** = [1,1,1,1] and **padding** = 'VALID'  \n",
    "output_shape = [batch, ??, ??, out_channel]"
   ]
  },
  {
   "cell_type": "markdown",
   "metadata": {
    "deletable": true,
    "editable": true
   },
   "source": [
    "in_height - filter_height + 1  \n",
    "in_width - filter_width + 1  "
   ]
  },
  {
   "cell_type": "code",
   "execution_count": 29,
   "metadata": {
    "collapsed": true,
    "deletable": true,
    "editable": true
   },
   "outputs": [],
   "source": [
    "batch = 10\n",
    "height = 28\n",
    "width = 28\n",
    "in_channel = 1"
   ]
  },
  {
   "cell_type": "code",
   "execution_count": 30,
   "metadata": {
    "collapsed": false,
    "deletable": true,
    "editable": true
   },
   "outputs": [
    {
     "data": {
      "text/plain": [
       "[10, 28, 28, 1]"
      ]
     },
     "execution_count": 30,
     "metadata": {},
     "output_type": "execute_result"
    }
   ],
   "source": [
    "x = tf.random_normal([batch, height, width, in_channel])\n",
    "get_shape(x)"
   ]
  },
  {
   "cell_type": "code",
   "execution_count": 31,
   "metadata": {
    "collapsed": false,
    "deletable": true,
    "editable": true
   },
   "outputs": [
    {
     "data": {
      "text/plain": [
       "[10, 24, 24, 10]"
      ]
     },
     "execution_count": 31,
     "metadata": {},
     "output_type": "execute_result"
    }
   ],
   "source": [
    "weight1 = tf.Variable(tf.random_normal([5, 5, 1, 10]))\n",
    "conv1 = tf.nn.conv2d(x, weight1, strides=[1,1,1,1],padding='VALID')\n",
    "get_shape(conv1)"
   ]
  },
  {
   "cell_type": "code",
   "execution_count": 32,
   "metadata": {
    "collapsed": false,
    "deletable": true,
    "editable": true
   },
   "outputs": [
    {
     "data": {
      "text/plain": [
       "[10, 19, 19, 20]"
      ]
     },
     "execution_count": 32,
     "metadata": {},
     "output_type": "execute_result"
    }
   ],
   "source": [
    "weight2 = tf.Variable(tf.random_normal([6, 6, 10, 20]))\n",
    "conv2 = tf.nn.conv2d(conv1, weight2, strides =[1,1,1,1], padding='VALID')\n",
    "get_shape(conv2)"
   ]
  },
  {
   "cell_type": "markdown",
   "metadata": {},
   "source": [
    "## Quiz 3"
   ]
  },
  {
   "cell_type": "raw",
   "metadata": {},
   "source": [
    "x = tf.random_normal([30, 28, 28, 1])\n",
    "get_shape(x)\n",
    "\n",
    "weight1 = tf.Variable(tf.random_normal())\n",
    "conv1 = tf.nn.conv2d()\n",
    "get_shape(conv1)\n",
    "\n",
    "weight2 = tf.Variable(tf.random_normal())\n",
    "conv2 = tf.nn.conv2d()\n",
    "get_shape(conv2)\n",
    "\n",
    "weight3 = tf.Variable(tf.random_normal())\n",
    "conv3 = tf.nn.conv2d()\n",
    "get_shape(conv3)"
   ]
  },
  {
   "cell_type": "markdown",
   "metadata": {},
   "source": [
    "## tf.nn.max_pool(value, ksize, strides, padding)\n",
    "* value : 4D tensor   \n",
    "> [batch, height, width, channels]\n",
    "* ksize : list with 4 elements  \n",
    "> the size of the window in the shape of value\n",
    "* strides : list with 4 elements  \n",
    "> the stride of the sliding window in the shape of value\n",
    "* padding : string  \n",
    "> **VALID** : No padding\n",
    "> **SAME** : padding"
   ]
  },
  {
   "cell_type": "code",
   "execution_count": 54,
   "metadata": {
    "collapsed": false
   },
   "outputs": [
    {
     "data": {
      "text/plain": [
       "[4, 8, 11, 6]"
      ]
     },
     "execution_count": 54,
     "metadata": {},
     "output_type": "execute_result"
    }
   ],
   "source": [
    "x = tf.random_normal([4, 8, 11, 6])\n",
    "get_shape(x)"
   ]
  },
  {
   "cell_type": "code",
   "execution_count": 55,
   "metadata": {
    "collapsed": false
   },
   "outputs": [
    {
     "data": {
      "text/plain": [
       "[4, 2, 2, 2]"
      ]
     },
     "execution_count": 55,
     "metadata": {},
     "output_type": "execute_result"
    }
   ],
   "source": [
    "pool1 = tf.nn.max_pool(value=x, ksize=[10000, 3, 4, 2], strides=[1000, 4, 6, 3], padding= 'VALID')\n",
    "get_shape(pool1)"
   ]
  },
  {
   "cell_type": "code",
   "execution_count": 56,
   "metadata": {
    "collapsed": false
   },
   "outputs": [
    {
     "data": {
      "text/plain": [
       "[30, 28, 28, 1]"
      ]
     },
     "execution_count": 56,
     "metadata": {},
     "output_type": "execute_result"
    }
   ],
   "source": [
    "x = tf.random_normal([30, 28, 28, 1])\n",
    "get_shape(x)"
   ]
  },
  {
   "cell_type": "code",
   "execution_count": 59,
   "metadata": {
    "collapsed": false
   },
   "outputs": [
    {
     "data": {
      "text/plain": [
       "[30, 24, 24, 10]"
      ]
     },
     "execution_count": 59,
     "metadata": {},
     "output_type": "execute_result"
    }
   ],
   "source": [
    "weight1 = tf.Variable(tf.random_normal([5,5,1,10]))\n",
    "conv1 = tf.nn.conv2d(x, weight1, [1,1,1,1], 'VALID')\n",
    "get_shape(conv1)"
   ]
  },
  {
   "cell_type": "code",
   "execution_count": 61,
   "metadata": {
    "collapsed": false
   },
   "outputs": [
    {
     "data": {
      "text/plain": [
       "[30, 6, 6, 10]"
      ]
     },
     "execution_count": 61,
     "metadata": {},
     "output_type": "execute_result"
    }
   ],
   "source": [
    "pool1 = tf.nn.max_pool(conv1, [1,2,2,1], [1,4,4,1], 'VALID')\n",
    "get_shape(pool1)"
   ]
  },
  {
   "cell_type": "code",
   "execution_count": 62,
   "metadata": {
    "collapsed": false
   },
   "outputs": [
    {
     "data": {
      "text/plain": [
       "[30, 4, 4, 20]"
      ]
     },
     "execution_count": 62,
     "metadata": {},
     "output_type": "execute_result"
    }
   ],
   "source": [
    "weight2 = tf.Variable(tf.random_normal([3,3,10,20]))\n",
    "conv2 = tf.nn.conv2d(pool1, weight2,[1,1,1,1], 'VALID')\n",
    "get_shape(conv2)"
   ]
  },
  {
   "cell_type": "code",
   "execution_count": 63,
   "metadata": {
    "collapsed": false
   },
   "outputs": [
    {
     "data": {
      "text/plain": [
       "[30, 2, 2, 20]"
      ]
     },
     "execution_count": 63,
     "metadata": {},
     "output_type": "execute_result"
    }
   ],
   "source": [
    "pool2 = tf.nn.max_pool(conv2, [1,2,2,1], [1,2,2,1], 'VALID')\n",
    "get_shape(pool2)"
   ]
  },
  {
   "cell_type": "markdown",
   "metadata": {},
   "source": [
    "## Quiz4"
   ]
  },
  {
   "cell_type": "raw",
   "metadata": {},
   "source": [
    "x = tf.random_normal([30, 28, 28, 1])\n",
    "get_shape(x)\n",
    "weight1 = tf.Variable(tf.random_normal([5,3,1,10]))\n",
    "conv1 = tf.nn.conv2d(x, weight1, [1,1,1,1], 'VALID')\n",
    "get_shape(conv1)\n",
    "\n",
    "pool1 = tf.nn.max_pool(conv1, [1,2,4,1], [1,4,6,2], 'VALID')\n",
    "get_shape(pool1)\n",
    "\n",
    "weight2 = tf.Variable(tf.random_normal([4, 2, 5, 30]))\n",
    "conv2 = tf.nn.conv2d(pool1, weight2, [1,1,1,1], 'VALID')\n",
    "get_shape(conv2)\n",
    "\n",
    "pool2 = tf.nn.max_pool(conv2, [1,2,2,3], [1,1,1,5], 'VALID')\n",
    "get_shape(pool2)"
   ]
  },
  {
   "cell_type": "markdown",
   "metadata": {
    "deletable": true,
    "editable": true
   },
   "source": [
    "# More on channel and batch"
   ]
  },
  {
   "cell_type": "code",
   "execution_count": 14,
   "metadata": {
    "collapsed": false,
    "deletable": true,
    "editable": true
   },
   "outputs": [],
   "source": [
    "input1 = tf.constant([[1, 2],[4, 8]], dtype = tf.float32)\n",
    "input2 = tf.constant([[16, 32],[64, 128]], dtype = tf.float32)\n",
    "input3 = tf.constant([[256, 512], [64, 128]], dtype = tf.float32)"
   ]
  },
  {
   "cell_type": "code",
   "execution_count": 15,
   "metadata": {
    "collapsed": false,
    "deletable": true,
    "editable": true
   },
   "outputs": [
    {
     "data": {
      "text/plain": [
       "<tf.Tensor 'stack:0' shape=(3, 2, 2) dtype=float32>"
      ]
     },
     "execution_count": 15,
     "metadata": {},
     "output_type": "execute_result"
    }
   ],
   "source": [
    "batch_stack = tf.stack(values = [input1, input2,input3], axis = 0)\n",
    "batch_stack"
   ]
  },
  {
   "cell_type": "code",
   "execution_count": 16,
   "metadata": {
    "collapsed": false,
    "deletable": true,
    "editable": true
   },
   "outputs": [
    {
     "name": "stdout",
     "output_type": "stream",
     "text": [
      "[[[   1.    2.]\n",
      "  [   4.    8.]]\n",
      "\n",
      " [[  16.   32.]\n",
      "  [  64.  128.]]\n",
      "\n",
      " [[ 256.  512.]\n",
      "  [  64.  128.]]]\n"
     ]
    }
   ],
   "source": [
    "print_tensor(batch_stack)"
   ]
  },
  {
   "cell_type": "code",
   "execution_count": 17,
   "metadata": {
    "collapsed": false,
    "deletable": true,
    "editable": true
   },
   "outputs": [
    {
     "data": {
      "text/plain": [
       "<tf.Tensor 'ExpandDims:0' shape=(3, 2, 2, 1) dtype=float32>"
      ]
     },
     "execution_count": 17,
     "metadata": {},
     "output_type": "execute_result"
    }
   ],
   "source": [
    "batch_stack_expand = tf.expand_dims (batch_stack, dim=-1)\n",
    "batch_stack_expand"
   ]
  },
  {
   "cell_type": "code",
   "execution_count": 18,
   "metadata": {
    "collapsed": false,
    "deletable": true,
    "editable": true
   },
   "outputs": [
    {
     "data": {
      "text/plain": [
       "<tf.Tensor 'ExpandDims_1:0' shape=(1, 2, 2, 3) dtype=float32>"
      ]
     },
     "execution_count": 18,
     "metadata": {},
     "output_type": "execute_result"
    }
   ],
   "source": [
    "channel_stack = tf.stack(values =[input1, input2, input3], axis = 2)\n",
    "channel_stack_expand = tf.expand_dims(channel_stack, dim = 0)\n",
    "channel_stack_expand"
   ]
  },
  {
   "cell_type": "code",
   "execution_count": 19,
   "metadata": {
    "collapsed": false,
    "deletable": true,
    "editable": true
   },
   "outputs": [],
   "source": [
    "batch_filter = tf.constant(value = 1, shape = [2, 2, 1, 1], dtype = tf.float32)\n",
    "channel_filter = tf.constant(value = 1, shape = [2, 2, 3, 1], dtype = tf.float32)"
   ]
  },
  {
   "cell_type": "code",
   "execution_count": 22,
   "metadata": {
    "collapsed": false,
    "deletable": true,
    "editable": true
   },
   "outputs": [],
   "source": [
    "conv_batch = tf.nn.conv2d(batch_stack_expand, batch_filter, strides = [1,1,1,1], padding='VALID')"
   ]
  },
  {
   "cell_type": "code",
   "execution_count": 23,
   "metadata": {
    "collapsed": false,
    "deletable": true,
    "editable": true
   },
   "outputs": [
    {
     "name": "stdout",
     "output_type": "stream",
     "text": [
      "[[[[  15.]]]\n",
      "\n",
      "\n",
      " [[[ 240.]]]\n",
      "\n",
      "\n",
      " [[[ 960.]]]]\n"
     ]
    }
   ],
   "source": [
    "print_tensor(conv_batch)"
   ]
  },
  {
   "cell_type": "code",
   "execution_count": 24,
   "metadata": {
    "collapsed": false,
    "deletable": true,
    "editable": true
   },
   "outputs": [
    {
     "data": {
      "text/plain": [
       "[3, 1, 1, 1]"
      ]
     },
     "execution_count": 24,
     "metadata": {},
     "output_type": "execute_result"
    }
   ],
   "source": [
    "get_shape(conv_batch)"
   ]
  },
  {
   "cell_type": "code",
   "execution_count": 25,
   "metadata": {
    "collapsed": true,
    "deletable": true,
    "editable": true
   },
   "outputs": [],
   "source": [
    "conv_channel = tf.nn.conv2d(channel_stack_expand, channel_filter, strides = [1,1,1,1], padding='VALID')"
   ]
  },
  {
   "cell_type": "code",
   "execution_count": 26,
   "metadata": {
    "collapsed": false,
    "deletable": true,
    "editable": true
   },
   "outputs": [
    {
     "name": "stdout",
     "output_type": "stream",
     "text": [
      "[[[[ 1215.]]]]\n"
     ]
    }
   ],
   "source": [
    "print_tensor(conv_channel)"
   ]
  }
 ],
 "metadata": {
  "kernelspec": {
   "display_name": "Python 3",
   "language": "python",
   "name": "python3"
  },
  "language_info": {
   "codemirror_mode": {
    "name": "ipython",
    "version": 3
   },
   "file_extension": ".py",
   "mimetype": "text/x-python",
   "name": "python",
   "nbconvert_exporter": "python",
   "pygments_lexer": "ipython3",
   "version": "3.4.5"
  }
 },
 "nbformat": 4,
 "nbformat_minor": 2
}
