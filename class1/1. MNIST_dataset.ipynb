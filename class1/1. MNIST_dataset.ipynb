{
 "cells": [
  {
   "cell_type": "code",
   "execution_count": 1,
   "metadata": {
    "collapsed": false,
    "deletable": true,
    "editable": true
   },
   "outputs": [],
   "source": [
    "import tensorflow as tf\n",
    "import matplotlib.pyplot as plt\n",
    "import numpy as np \n",
    "from tensorflow.examples.tutorials.mnist import input_data"
   ]
  },
  {
   "cell_type": "markdown",
   "metadata": {
    "deletable": true,
    "editable": true
   },
   "source": [
    "# Download MNIST dataset\n",
    "[yann.lecun.com/exdb/mnist](yann.lecun.com/exdb/mnist)"
   ]
  },
  {
   "cell_type": "code",
   "execution_count": 2,
   "metadata": {
    "collapsed": false,
    "deletable": true,
    "editable": true
   },
   "outputs": [
    {
     "name": "stdout",
     "output_type": "stream",
     "text": [
      "Extracting ../MNIST_data/train-images-idx3-ubyte.gz\n",
      "Extracting ../MNIST_data/train-labels-idx1-ubyte.gz\n",
      "Extracting ../MNIST_data/t10k-images-idx3-ubyte.gz\n",
      "Extracting ../MNIST_data/t10k-labels-idx1-ubyte.gz\n"
     ]
    }
   ],
   "source": [
    "mnist = input_data.read_data_sets('../MNIST_data', one_hot=True)"
   ]
  },
  {
   "cell_type": "code",
   "execution_count": 3,
   "metadata": {
    "collapsed": true,
    "deletable": true,
    "editable": true
   },
   "outputs": [],
   "source": [
    "mnist_train = {}\n",
    "mnist_train['images'] = mnist.train.images\n",
    "mnist_train['labels'] = mnist.train.labels"
   ]
  },
  {
   "cell_type": "code",
   "execution_count": 4,
   "metadata": {
    "collapsed": false,
    "deletable": true,
    "editable": true
   },
   "outputs": [
    {
     "data": {
      "text/plain": [
       "numpy.ndarray"
      ]
     },
     "execution_count": 4,
     "metadata": {},
     "output_type": "execute_result"
    }
   ],
   "source": [
    "type(mnist_train['images'])"
   ]
  },
  {
   "cell_type": "code",
   "execution_count": 5,
   "metadata": {
    "collapsed": false,
    "deletable": true,
    "editable": true
   },
   "outputs": [
    {
     "data": {
      "text/plain": [
       "(55000, 784)"
      ]
     },
     "execution_count": 5,
     "metadata": {},
     "output_type": "execute_result"
    }
   ],
   "source": [
    "mnist_train['images'].shape"
   ]
  },
  {
   "cell_type": "code",
   "execution_count": 6,
   "metadata": {
    "collapsed": false,
    "deletable": true,
    "editable": true
   },
   "outputs": [
    {
     "data": {
      "text/plain": [
       "(55000, 10)"
      ]
     },
     "execution_count": 6,
     "metadata": {},
     "output_type": "execute_result"
    }
   ],
   "source": [
    "mnist_train['labels'].shape"
   ]
  },
  {
   "cell_type": "code",
   "execution_count": 7,
   "metadata": {
    "collapsed": true,
    "deletable": true,
    "editable": true
   },
   "outputs": [],
   "source": [
    "def draw_mnist(image, label):\n",
    "    '''\n",
    "    Arg\n",
    "        image - 1D array, length = 784 \n",
    "        label - int\n",
    "            one_hot vector\n",
    "    '''\n",
    "    label_index = np.argmax(label)\n",
    "    image_2d = np.reshape(image, [28, 28])\n",
    "    fig = plt.figure(figsize=(1,1))\n",
    "    plt.imshow(image_2d, cmap='gray')\n",
    "    plt.axis('off')\n",
    "    plt.title(\"Number : {}\".format(label_index))\n",
    "    plt.show()"
   ]
  },
  {
   "cell_type": "code",
   "execution_count": 8,
   "metadata": {
    "collapsed": false,
    "deletable": true,
    "editable": true
   },
   "outputs": [
    {
     "data": {
      "image/png": "[encoded data removed]",
      "text/plain": [
       "<matplotlib.figure.Figure at 0x7f38130237b8>"
      ]
     },
     "metadata": {},
     "output_type": "display_data"
    }
   ],
   "source": [
    "draw_mnist(mnist_train['images'][1], mnist_train['labels'][1])"
   ]
  },
  {
   "cell_type": "code",
   "execution_count": 9,
   "metadata": {
    "collapsed": false,
    "deletable": true,
    "editable": true
   },
   "outputs": [
    {
     "data": {
      "text/plain": [
       "0.99607849"
      ]
     },
     "execution_count": 9,
     "metadata": {},
     "output_type": "execute_result"
    }
   ],
   "source": [
    "np.max(mnist_train['images'][0])"
   ]
  },
  {
   "cell_type": "code",
   "execution_count": 10,
   "metadata": {
    "collapsed": false,
    "deletable": true,
    "editable": true
   },
   "outputs": [
    {
     "data": {
      "text/plain": [
       "0.0"
      ]
     },
     "execution_count": 10,
     "metadata": {},
     "output_type": "execute_result"
    }
   ],
   "source": [
    "np.min(mnist_train['labels'][0])"
   ]
  },
  {
   "cell_type": "code",
   "execution_count": 11,
   "metadata": {
    "collapsed": false,
    "deletable": true,
    "editable": true
   },
   "outputs": [],
   "source": [
    "mnist_test = {}\n",
    "mnist_val = {}\n",
    "mnist_test['images'] = mnist.test.images\n",
    "mnist_test['labels'] = mnist.test.labels\n",
    "mnist_val['images'] = mnist.validation.images\n",
    "mnist_val['labels'] = mnist.validation.labels"
   ]
  },
  {
   "cell_type": "code",
   "execution_count": 12,
   "metadata": {
    "collapsed": true,
    "deletable": true,
    "editable": true
   },
   "outputs": [],
   "source": [
    "def get_mask(mask_type='prewitX'):\n",
    "    '''\n",
    "    Arg:\n",
    "        mask_type - string\n",
    "            prewitX\n",
    "            prewitY\n",
    "            embos1\n",
    "            embos2\n",
    "            laplace4\n",
    "            laplace8\n",
    "            unsharp4\n",
    "            unsharp8        \n",
    "    return :\n",
    "        mask\n",
    "            numpy 3 by 3 matrix\n",
    "    '''\n",
    "    if mask_type == 'prewitX':\n",
    "        mask = [1, 1, 1, 0, 0, 0, -1, -1, -1]\n",
    "    if mask_type == 'prewitY':\n",
    "        mask = [1, 0, -1, 1, 0, -1, 1, 0, -1]\n",
    "    if mask_type == 'embos1':\n",
    "        mask = [1, 0, 0, 0, 0, 0, 0, 0, -1]\n",
    "    if mask_type == 'embos2':\n",
    "        mask = [0, 0, 1, 0, 0, 0, -1, 0, 0]\n",
    "    if mask_type == 'laplace4':\n",
    "        mask = [0, 1, 0, 1, -4, 1, 0, 1, 0]\n",
    "    if mask_type == 'laplace8':\n",
    "        mask = [1, 1, 1, 1, -8, 1, 1, 1, 1]\n",
    "    if mask_type == 'unsharp4':\n",
    "        mask = [0, -1, 0, -1, 5, -1, 0, -1, 0]\n",
    "    if mask_type == 'unsharp8':\n",
    "        mask = [-1, -1, -1, -1, 8, -1, -1, -1, -1]         \n",
    "    mask = np.reshape(np.array(mask), [3, 3])\n",
    "    return mask\n",
    "\n",
    "def conv(img, filt):\n",
    "    '''\n",
    "    Arg :\n",
    "        img - 2D array\n",
    "        filt - 2D array\n",
    "    return :\n",
    "        image convoluted with filt\n",
    "    '''\n",
    "    ir, ic = img.shape\n",
    "    fr, fc = filt.shape\n",
    "    \n",
    "    conv_img = np.zeros((ir, ic))\n",
    "    for r in range(ir):\n",
    "        for c in range(ic):\n",
    "            value = 0\n",
    "            for i in range(fr):\n",
    "                for j in range(fc):\n",
    "                    if r+i>=0 and r+i<ir and c+j>=0 and c+j<ic :\n",
    "                        value += filt[i][j]*img[r+i][c+j]\n",
    "            conv_img[r][c] = clip(value)\n",
    "    return conv_img\n",
    "\n",
    "    \n",
    "def clip(x, vmax = 1.0, vmin = 0.0):\n",
    "    '''\n",
    "    Arg:\n",
    "        x - float\n",
    "        vmax - float\n",
    "            default to be 1.0\n",
    "        vmin - float\n",
    "            default to be 0.0\n",
    "    return :\n",
    "        clipped x [vmin, vmax]\n",
    "    '''\n",
    "    if x>vmax:\n",
    "        return vmax\n",
    "    if x<vmin:\n",
    "        return vmin\n",
    "    return x\n",
    "    \n",
    "def conv_study(gray_image, mask_type):\n",
    "    '''\n",
    "    Arg:\n",
    "        gray_image - 2D array\n",
    "        mask_type - string\n",
    "            prewitX\n",
    "            prewitY\n",
    "            embos1\n",
    "            embos2\n",
    "            laplace4\n",
    "            laplace8\n",
    "            unsharp4\n",
    "            unsharp8        \n",
    "    '''\n",
    "    mask = get_mask(mask_type)\n",
    "    conv_image = conv(gray_image, mask)\n",
    "    nconv_image = conv_image/np.max(conv_image)\n",
    "    fig = plt.figure(figsize=(17,17))\n",
    "    ax1 = fig.add_subplot(1, 2, 1)\n",
    "    ax2 = fig.add_subplot(1, 2, 2)\n",
    "    ax1.imshow(gray_image, cmap = 'gray')\n",
    "    ax1.set_title('original')\n",
    "    ax1.set_axis_off()\n",
    "    ax2.imshow(conv_image, cmap = 'gray')\n",
    "    ax2.set_title(mask_type)\n",
    "    ax2.set_axis_off()\n",
    "    plt.show()"
   ]
  },
  {
   "cell_type": "code",
   "execution_count": 13,
   "metadata": {
    "collapsed": false,
    "deletable": true,
    "editable": true
   },
   "outputs": [
    {
     "data": {
      "image/png": "[encoded data removed]",
      "text/plain": [
       "<matplotlib.figure.Figure at 0x7f3810fbaf28>"
      ]
     },
     "metadata": {},
     "output_type": "display_data"
    }
   ],
   "source": [
    "gray_image = np.reshape(mnist_train['images'][1], [28,28])\n",
    "mask_type = 'laplace4'\n",
    "conv_study(gray_image, mask_type)"
   ]
  },
  {
   "cell_type": "code",
   "execution_count": 18,
   "metadata": {
    "collapsed": false,
    "deletable": true,
    "editable": true
   },
   "outputs": [
    {
     "data": {
      "image/png": "[encoded data removed]",
      "text/plain": [
       "<matplotlib.figure.Figure at 0x7f3810d46ba8>"
      ]
     },
     "metadata": {},
     "output_type": "display_data"
    }
   ],
   "source": [
    "gray_image = np.reshape(mnist_train['images'][2], [28,28])\n",
    "mask_type = 'laplace8'\n",
    "conv_study(gray_image, mask_type)"
   ]
  }
 ],
 "metadata": {
  "kernelspec": {
   "display_name": "Python 3",
   "language": "python",
   "name": "python3"
  },
  "language_info": {
   "codemirror_mode": {
    "name": "ipython",
    "version": 3
   },
   "file_extension": ".py",
   "mimetype": "text/x-python",
   "name": "python",
   "nbconvert_exporter": "python",
   "pygments_lexer": "ipython3",
   "version": "3.4.5"
  }
 },
 "nbformat": 4,
 "nbformat_minor": 2
}
