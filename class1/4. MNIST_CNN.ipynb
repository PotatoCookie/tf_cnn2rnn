{
 "cells": [
  {
   "cell_type": "code",
   "execution_count": 1,
   "metadata": {
    "collapsed": false,
    "deletable": true,
    "editable": true
   },
   "outputs": [],
   "source": [
    "from tensorflow.examples.tutorials.mnist import input_data\n",
    "import matplotlib.pyplot as plt\n",
    "import tensorflow as tf\n",
    "import numpy as np"
   ]
  },
  {
   "cell_type": "code",
   "execution_count": 2,
   "metadata": {
    "collapsed": true,
    "deletable": true,
    "editable": true
   },
   "outputs": [],
   "source": [
    "def get_shape(tensor):\n",
    "    \"return the shape of tensor as list\"\n",
    "    return tensor.get_shape().as_list()\n",
    "\n",
    "def print_var(string):\n",
    "    \"print var_name and var_shape in collection named string\"\n",
    "    print(\"\\n\".join([\"{} : {}\".format(v.name, get_shape(v)) for v in tf.get_collection(string)]))\n",
    "    \n",
    "def clip(x, vmax = 1-1e-7, vmin = 1e-7):\n",
    "    \"clip the x between vmax, vmin\"\n",
    "    return tf.clip_by_value(x, clip_value_max=vmax, clip_value_min=vmin)"
   ]
  },
  {
   "cell_type": "code",
   "execution_count": 3,
   "metadata": {
    "collapsed": false,
    "deletable": true,
    "editable": true
   },
   "outputs": [
    {
     "name": "stdout",
     "output_type": "stream",
     "text": [
      "Extracting ../MNIST_data/train-images-idx3-ubyte.gz\n",
      "Extracting ../MNIST_data/train-labels-idx1-ubyte.gz\n",
      "Extracting ../MNIST_data/t10k-images-idx3-ubyte.gz\n",
      "Extracting ../MNIST_data/t10k-labels-idx1-ubyte.gz\n"
     ]
    }
   ],
   "source": [
    "mnist = input_data.read_data_sets('../MNIST_data', one_hot=True)"
   ]
  },
  {
   "cell_type": "code",
   "execution_count": 4,
   "metadata": {
    "collapsed": true,
    "deletable": true,
    "editable": true
   },
   "outputs": [],
   "source": [
    "train = {}\n",
    "test = {}\n",
    "val = {}\n",
    "train['input'] = mnist.train.images\n",
    "train['output'] = mnist.train.labels\n",
    "test['input'] = mnist.test.images\n",
    "test['output'] = mnist.test.labels\n",
    "val['input'] = mnist.validation.images\n",
    "val['output'] = mnist.validation.labels"
   ]
  },
  {
   "cell_type": "code",
   "execution_count": 10,
   "metadata": {
    "collapsed": false,
    "deletable": true,
    "editable": true
   },
   "outputs": [],
   "source": [
    "# Model parameter\n",
    "image_size = 28*28\n",
    "image_row = 28\n",
    "conv_filter1 = [5, 5]\n",
    "conv_channel1 = 30\n",
    "nclasses = 10\n",
    "\n",
    "# Train parameter\n",
    "learning_rate = 1e-4\n",
    "epoch = 5\n",
    "ntrain = len(train['input'])\n",
    "batch_size = 100\n",
    "nbatch = ntrain//batch_size\n",
    "log_every = 50"
   ]
  },
  {
   "cell_type": "code",
   "execution_count": 13,
   "metadata": {
    "collapsed": false,
    "deletable": true,
    "editable": true
   },
   "outputs": [
    {
     "name": "stdout",
     "output_type": "stream",
     "text": [
      "Reshape [None, 784] -> [None, 28, 28, 1]\n",
      "Convolution layer 1\n",
      "Conv [None, 28, 28, 1] -> [None, 24, 24, 30]\n",
      "Pool [None, 24, 24, 30] -> [None, 12, 12, 30]\n",
      "Flat [None, 12, 12, 30] -> [None, 4320]\n",
      "Fully connected layer 1\n",
      "Linear [None, 4320] -> [None, 10]\n"
     ]
    }
   ],
   "source": [
    "x = tf.placeholder(dtype = tf.float32, shape = [None, image_size], name = 'image')\n",
    "y = tf.placeholder(dtype = tf.float32, shape = [None, nclasses], name = 'label')\n",
    "\n",
    "x_reshape = tf.reshape(x, [-1, image_row, image_row, 1]) # 4D \n",
    "\n",
    "conv_layer1 = {}\n",
    "fc_layer1 = {}\n",
    "\n",
    "with tf.variable_scope(\"conv_layer1\"):\n",
    "    conv_layer1['w'] = tf.Variable(initial_value = tf.random_normal(shape = [conv_filter1[0], conv_filter1[1], 1, conv_channel1], mean = 0.0, stddev = 1.0),\n",
    "                              name = 'weight')\n",
    "    conv_layer1['b'] = tf.Variable(initial_value = tf.constant(value=0.01, shape = [30]),\n",
    "                              name = 'bias')\n",
    "    conv_layer1['conv'] = tf.nn.conv2d(x_reshape, conv_layer1['w'], strides = [1,1,1,1], padding = \"VALID\") + conv_layer1['b']\n",
    "    conv_layer1['relu'] = tf.nn.relu(conv_layer1['conv'])\n",
    "    conv_layer1['pool'] = tf.nn.max_pool(conv_layer1['relu'], ksize = [1, 2, 2, 1], strides = [1, 2, 2, 1], padding = 'VALID')\n",
    "    conv_shape = get_shape(conv_layer1['pool'])\n",
    "    flat_size = conv_shape[1]*conv_shape[2]*conv_shape[3]\n",
    "    conv_layer1['flat'] = tf.reshape(conv_layer1['pool'], [-1, flat_size])\n",
    "\n",
    "with tf.variable_scope(\"fc_layer1\"):\n",
    "    fc_layer1['w'] = tf.Variable(initial_value = tf.random_normal(shape = [flat_size, nclasses], mean = 0.0, stddev = 1.0),\n",
    "                              name = 'weight')\n",
    "    fc_layer1['b'] = tf.Variable(initial_value = tf.constant(value=0.0, shape = [nclasses]),\n",
    "                              name = 'bias')\n",
    "    fc_layer1['output'] = tf.nn.softmax(tf.add(tf.matmul(conv_layer1['flat'], fc_layer1['w']), fc_layer1['b']))    \n",
    "    \n",
    "print(\"Reshape {} -> {}\".format(get_shape(x), get_shape(x_reshape)))\n",
    "print(\"Convolution layer 1\")\n",
    "print(\"Conv {} -> {}\".format(get_shape(x_reshape), get_shape(conv_layer1['conv'])))\n",
    "print(\"Pool {} -> {}\".format(get_shape(conv_layer1['conv']), get_shape(conv_layer1['pool'])))    \n",
    "print(\"Flat {} -> {}\".format(get_shape(conv_layer1['pool']), get_shape(conv_layer1['flat'])))\n",
    "print(\"Fully connected layer 1\")\n",
    "print(\"Linear {} -> {}\".format(get_shape(conv_layer1['flat']), get_shape(fc_layer1['output'])))"
   ]
  },
  {
   "cell_type": "code",
   "execution_count": 14,
   "metadata": {
    "collapsed": false,
    "deletable": true,
    "editable": true
   },
   "outputs": [
    {
     "name": "stdout",
     "output_type": "stream",
     "text": [
      "conv_layer1/weight:0 : [5, 5, 1, 30]\n",
      "conv_layer1/bias:0 : [30]\n",
      "fc_layer1/weight:0 : [4320, 10]\n",
      "fc_layer1/bias:0 : [10]\n",
      "conv_layer1_3/weight:0 : [5, 5, 1, 30]\n",
      "conv_layer1_3/bias:0 : [30]\n",
      "fc_layer1_1/weight:0 : [4320, 10]\n",
      "fc_layer1_1/bias:0 : [10]\n"
     ]
    }
   ],
   "source": [
    "print_var(\"trainable_variables\")"
   ]
  },
  {
   "cell_type": "markdown",
   "metadata": {
    "deletable": true,
    "editable": true
   },
   "source": [
    "### Cross entropy\n",
    "$y[i][j] = $ True Label(one hot)  \n",
    "$output[i][j] = $ Output of Neural Network\n",
    "\n",
    "$$cross entropy = \\sum_{i} \\sum_{j=1}^{10} y[i][j]\\log(output[i][j])$$"
   ]
  },
  {
   "cell_type": "code",
   "execution_count": 16,
   "metadata": {
    "collapsed": false,
    "deletable": true,
    "editable": true
   },
   "outputs": [],
   "source": [
    "cross_entropy = -tf.reduce_mean(y*tf.log(clip(fc_layer1['output'])))"
   ]
  },
  {
   "cell_type": "markdown",
   "metadata": {
    "deletable": true,
    "editable": true
   },
   "source": [
    "### tf.argmax(2Darray, axis = 1)\n",
    "[http://nbviewer.jupyter.org/github/maestrojeong/tensorflow_api/blob/master/tensorflow_1.0.0/tensorflow_api.ipynb](http://nbviewer.jupyter.org/github/maestrojeong/tensorflow_api/blob/master/tensorflow_1.0.0/tensorflow_api.ipynb)"
   ]
  },
  {
   "cell_type": "code",
   "execution_count": 18,
   "metadata": {
    "collapsed": false,
    "deletable": true,
    "editable": true
   },
   "outputs": [],
   "source": [
    "correct_prediction = tf.equal(tf.argmax(fc_layer1['output'], 1), tf.argmax(y, 1))\n",
    "accuracy = tf.reduce_mean(tf.cast(correct_prediction, tf.float32))"
   ]
  },
  {
   "cell_type": "code",
   "execution_count": 19,
   "metadata": {
    "collapsed": false,
    "deletable": true,
    "editable": true
   },
   "outputs": [],
   "source": [
    "run_train = tf.train.AdamOptimizer(learning_rate).minimize(cross_entropy)"
   ]
  },
  {
   "cell_type": "code",
   "execution_count": 20,
   "metadata": {
    "collapsed": true,
    "deletable": true,
    "editable": true
   },
   "outputs": [],
   "source": [
    "sess = tf.Session()\n",
    "sess.run(tf.global_variables_initializer())"
   ]
  },
  {
   "cell_type": "code",
   "execution_count": 21,
   "metadata": {
    "collapsed": false,
    "deletable": true,
    "editable": true
   },
   "outputs": [
    {
     "name": "stdout",
     "output_type": "stream",
     "text": [
      "Epoch(1/5) 50 th batch train : 12.0 %, validation : 10.9 %\n",
      "Epoch(1/5) 100 th batch train : 13.0 %, validation : 12.7 %\n",
      "Epoch(1/5) 150 th batch train : 10.0 %, validation : 13.4 %\n",
      "Epoch(1/5) 200 th batch train : 12.0 %, validation : 14.1 %\n",
      "Epoch(1/5) 250 th batch train : 19.0 %, validation : 14.9 %\n",
      "Epoch(1/5) 300 th batch train : 20.0 %, validation : 15.7 %\n",
      "Epoch(1/5) 350 th batch train : 16.0 %, validation : 16.2 %\n",
      "Epoch(1/5) 400 th batch train : 19.0 %, validation : 17.0 %\n",
      "Epoch(1/5) 450 th batch train : 13.0 %, validation : 17.9 %\n",
      "Epoch(1/5) 500 th batch train : 17.0 %, validation : 18.5 %\n",
      "Epoch(1/5) 550 th batch train : 16.0 %, validation : 19.4 %\n",
      "Epoch(2/5) 50 th batch train : 25.0 %, validation : 20.2 %\n",
      "Epoch(2/5) 100 th batch train : 25.0 %, validation : 20.8 %\n",
      "Epoch(2/5) 150 th batch train : 31.0 %, validation : 21.3 %\n",
      "Epoch(2/5) 200 th batch train : 24.0 %, validation : 22.0 %\n",
      "Epoch(2/5) 250 th batch train : 20.0 %, validation : 22.7 %\n",
      "Epoch(2/5) 300 th batch train : 25.0 %, validation : 23.9 %\n",
      "Epoch(2/5) 350 th batch train : 28.0 %, validation : 25.0 %\n",
      "Epoch(2/5) 400 th batch train : 24.0 %, validation : 26.0 %\n",
      "Epoch(2/5) 450 th batch train : 29.0 %, validation : 26.9 %\n",
      "Epoch(2/5) 500 th batch train : 34.0 %, validation : 27.9 %\n",
      "Epoch(2/5) 550 th batch train : 29.0 %, validation : 28.7 %\n",
      "Epoch(3/5) 50 th batch train : 29.0 %, validation : 29.4 %\n",
      "Epoch(3/5) 100 th batch train : 35.0 %, validation : 30.0 %\n",
      "Epoch(3/5) 150 th batch train : 31.0 %, validation : 30.2 %\n",
      "Epoch(3/5) 200 th batch train : 28.0 %, validation : 30.7 %\n",
      "Epoch(3/5) 250 th batch train : 27.0 %, validation : 31.4 %\n",
      "Epoch(3/5) 300 th batch train : 33.0 %, validation : 32.0 %\n",
      "Epoch(3/5) 350 th batch train : 30.0 %, validation : 32.8 %\n",
      "Epoch(3/5) 400 th batch train : 35.0 %, validation : 33.6 %\n",
      "Epoch(3/5) 450 th batch train : 31.0 %, validation : 34.2 %\n",
      "Epoch(3/5) 500 th batch train : 31.0 %, validation : 34.6 %\n",
      "Epoch(3/5) 550 th batch train : 26.0 %, validation : 35.0 %\n",
      "Epoch(4/5) 50 th batch train : 30.0 %, validation : 35.5 %\n",
      "Epoch(4/5) 100 th batch train : 35.0 %, validation : 36.1 %\n",
      "Epoch(4/5) 150 th batch train : 34.0 %, validation : 36.3 %\n",
      "Epoch(4/5) 200 th batch train : 36.0 %, validation : 36.7 %\n",
      "Epoch(4/5) 250 th batch train : 29.0 %, validation : 37.2 %\n",
      "Epoch(4/5) 300 th batch train : 40.0 %, validation : 37.4 %\n",
      "Epoch(4/5) 350 th batch train : 36.0 %, validation : 37.8 %\n",
      "Epoch(4/5) 400 th batch train : 31.0 %, validation : 38.3 %\n",
      "Epoch(4/5) 450 th batch train : 46.0 %, validation : 38.9 %\n",
      "Epoch(4/5) 500 th batch train : 27.0 %, validation : 39.1 %\n",
      "Epoch(4/5) 550 th batch train : 46.0 %, validation : 39.5 %\n",
      "Epoch(5/5) 50 th batch train : 37.0 %, validation : 39.8 %\n",
      "Epoch(5/5) 100 th batch train : 40.0 %, validation : 40.2 %\n",
      "Epoch(5/5) 150 th batch train : 45.0 %, validation : 40.5 %\n",
      "Epoch(5/5) 200 th batch train : 38.0 %, validation : 40.7 %\n",
      "Epoch(5/5) 250 th batch train : 39.0 %, validation : 41.1 %\n",
      "Epoch(5/5) 300 th batch train : 46.0 %, validation : 41.3 %\n",
      "Epoch(5/5) 350 th batch train : 43.0 %, validation : 41.6 %\n",
      "Epoch(5/5) 400 th batch train : 41.0 %, validation : 41.9 %\n",
      "Epoch(5/5) 450 th batch train : 39.0 %, validation : 42.2 %\n",
      "Epoch(5/5) 500 th batch train : 42.0 %, validation : 42.6 %\n",
      "Epoch(5/5) 550 th batch train : 39.0 %, validation : 42.9 %\n",
      "Test accuracy=43.6 %\n"
     ]
    }
   ],
   "source": [
    "train_accuracy_tract = []\n",
    "val_accuracy_tract = []\n",
    "\n",
    "for epoch_ in range(epoch):\n",
    "    index = np.arange(len(train['input']))\n",
    "    np.random.shuffle(index)\n",
    "    trX = train['input'][index]\n",
    "    trY = train['output'][index]\n",
    "    val_feed_dict = {x : val['input'], \n",
    "                     y : val['output']}\n",
    "    \n",
    "    for nbatch_ in range(nbatch):\n",
    "        train_feed_dict = {x : trX[batch_size*nbatch_:batch_size*(nbatch_+1)], \n",
    "                           y : trY[batch_size*nbatch_:batch_size*(nbatch_+1)]}\n",
    "        sess.run(run_train, feed_dict=train_feed_dict)\n",
    "        \n",
    "        if nbatch_%log_every == log_every - 1:\n",
    "            train_accuracy = 100*sess.run(accuracy, feed_dict=train_feed_dict)\n",
    "            val_accuracy = 100*sess.run(accuracy, feed_dict= val_feed_dict)\n",
    "            train_accuracy_tract.append(train_accuracy)\n",
    "            val_accuracy_tract.append(val_accuracy)\n",
    "            print(\"Epoch(%d/%d) %d th batch train : %.1f %%, validation : %.1f %%\"%(epoch_+1, epoch, nbatch_+1, train_accuracy, val_accuracy))\n",
    "\n",
    "test_feed_dict = {x : test['input'],  \n",
    "                  y : test['output']}\n",
    "\n",
    "test_accuracy = 100*sess.run(accuracy, feed_dict=test_feed_dict)\n",
    "print(\"Test accuracy=%.1f %%\"%(test_accuracy))"
   ]
  },
  {
   "cell_type": "code",
   "execution_count": 22,
   "metadata": {
    "collapsed": false,
    "deletable": true,
    "editable": true
   },
   "outputs": [
    {
     "data": {
      "image/png": "[encoded data removed]",
      "text/plain": [
       "<matplotlib.figure.Figure at 0x7fd4b14a9b00>"
      ]
     },
     "metadata": {},
     "output_type": "display_data"
    }
   ],
   "source": [
    "plt.plot(train_accuracy_tract, 'r-', label = 'Train accuracy')\n",
    "plt.plot(val_accuracy_tract, 'b-', label = 'Validation accuracy')\n",
    "plt.legend()\n",
    "plt.show()"
   ]
  }
 ],
 "metadata": {
  "kernelspec": {
   "display_name": "Python 3",
   "language": "python",
   "name": "python3"
  },
  "language_info": {
   "codemirror_mode": {
    "name": "ipython",
    "version": 3
   },
   "file_extension": ".py",
   "mimetype": "text/x-python",
   "name": "python",
   "nbconvert_exporter": "python",
   "pygments_lexer": "ipython3",
   "version": "3.4.5"
  }
 },
 "nbformat": 4,
 "nbformat_minor": 2
}
