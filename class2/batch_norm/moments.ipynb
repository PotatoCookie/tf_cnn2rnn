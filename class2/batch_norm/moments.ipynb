{
 "cells": [
  {
   "cell_type": "code",
   "execution_count": 1,
   "metadata": {
    "collapsed": true
   },
   "outputs": [],
   "source": [
    "import tensorflow as tf\n",
    "import numpy as np\n",
    "sess = tf.Session()"
   ]
  },
  {
   "cell_type": "code",
   "execution_count": 2,
   "metadata": {
    "collapsed": true
   },
   "outputs": [],
   "source": [
    "def print_tensor(tensor):\n",
    "    print(sess.run(tensor))"
   ]
  },
  {
   "cell_type": "code",
   "execution_count": 4,
   "metadata": {
    "collapsed": false
   },
   "outputs": [
    {
     "name": "stdout",
     "output_type": "stream",
     "text": [
      "x\n",
      "[[ 3.  4.  5.]\n",
      " [ 1.  2.  4.]]\n",
      "mean, var = tf.nn.moments(x,[0])\n",
      "Mean\n",
      "[ 2.   3.   4.5]\n",
      "Varaiance\n",
      "[ 1.    1.    0.25]\n",
      "tf.nn.moments(x,[1])\n",
      "(array([ 4.        ,  2.33333325], dtype=float32), array([ 0.66666669,  1.5555557 ], dtype=float32))\n",
      "tf.nn.moments(x,[0,1])\n",
      "(3.1666667, 1.8055555)\n"
     ]
    }
   ],
   "source": [
    "x = tf.constant([[3,4,5],[1,2,4]],dtype = tf.float32)\n",
    "print(\"x\")\n",
    "print_tensor(x)\n",
    "print(\"mean, var = tf.nn.moments(x,[0])\")\n",
    "mean, var = tf.nn.moments(x,[0])\n",
    "print(\"Mean\")\n",
    "print_tensor(mean)\n",
    "print(\"Varaiance\")\n",
    "print_tensor(var)\n",
    "print(\"tf.nn.moments(x,[1])\")\n",
    "print_tensor(tf.nn.moments(x,[1]))\n",
    "print(\"tf.nn.moments(x,[0,1])\")\n",
    "print_tensor(tf.nn.moments(x,[0,1]))"
   ]
  }
 ],
 "metadata": {
  "kernelspec": {
   "display_name": "Python 3",
   "language": "python",
   "name": "python3"
  },
  "language_info": {
   "codemirror_mode": {
    "name": "ipython",
    "version": 3
   },
   "file_extension": ".py",
   "mimetype": "text/x-python",
   "name": "python",
   "nbconvert_exporter": "python",
   "pygments_lexer": "ipython3",
   "version": "3.4.5"
  }
 },
 "nbformat": 4,
 "nbformat_minor": 2
}
