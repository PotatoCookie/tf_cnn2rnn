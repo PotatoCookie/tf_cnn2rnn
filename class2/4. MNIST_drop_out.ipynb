{
 "cells": [
  {
   "cell_type": "code",
   "execution_count": 1,
   "metadata": {
    "collapsed": false,
    "deletable": true,
    "editable": true
   },
   "outputs": [],
   "source": [
    "from tensorflow.examples.tutorials.mnist import input_data\n",
    "import matplotlib.pyplot as plt\n",
    "import tensorflow as tf\n",
    "import numpy as np"
   ]
  },
  {
   "cell_type": "markdown",
   "metadata": {
    "deletable": true,
    "editable": true
   },
   "source": [
    "# Xavier initialization\n",
    "\n",
    "W = np.random.randn(fan_in,fan_out)/np.sqrt(fan_in)\n",
    "\n",
    "# He's initialization\n",
    "W = np.random.randn(fan_in, fan_out)/np.sqrt(fan_in/2)"
   ]
  },
  {
   "cell_type": "code",
   "execution_count": 2,
   "metadata": {
    "collapsed": true,
    "deletable": true,
    "editable": true
   },
   "outputs": [],
   "source": [
    "def get_shape(tensor):\n",
    "    \"return the shape of tensor as list\"\n",
    "    return tensor.get_shape().as_list()\n",
    "\n",
    "def print_var(string):\n",
    "    \"print var_name and var_shape in collection named string\"\n",
    "    print(\"\\n\".join([\"{} : {}\".format(v.name, get_shape(v)) for v in tf.get_collection(string)]))\n",
    "    \n",
    "def clip(x, vmax = 1-1e-7, vmin = 1e-7):\n",
    "    \"clip the x between vmax, vmin\"\n",
    "    return tf.clip_by_value(x, clip_value_max=vmax, clip_value_min=vmin)\n",
    "\n",
    "def batch_norm(x, phase_train, name= None):\n",
    "    '''\n",
    "        batch normalization for 4D tensor\n",
    "    '''\n",
    "    nchannel = get_shape(x)[3]\n",
    "    with tf.variable_scope(name or \"batch_norm\"):\n",
    "        beta = tf.Variable(tf.constant(0.0, shape = [nchannel]), name = 'beta')\n",
    "        gamma = tf.Variable(tf.constant(1.0, shape = [nchannel]), name = 'gamma')\n",
    "        batch_mean, batch_var = tf.nn.moments(x, [0, 1, 2], name = 'moments')\n",
    "        ema = tf.train.ExponentialMovingAverage(decay = 0.8)\n",
    "        def mean_var_with_update():\n",
    "            ema_apply_op = ema.apply([batch_mean, batch_var])\n",
    "            with tf.control_dependencies([ema_apply_op]):\n",
    "                return tf.identity(batch_mean), tf.identity(batch_var) \n",
    "\n",
    "        mean, var = tf.cond(tf.cast(phase_train, tf.bool), mean_var_with_update, lambda:(ema.average(batch_mean), ema.average(batch_var))) \n",
    "    normed = tf.nn.batch_normalization(x=x, mean=mean, variance=var, offset=beta, scale=gamma, variance_epsilon=1e-3)\n",
    "    return normed"
   ]
  },
  {
   "cell_type": "code",
   "execution_count": 3,
   "metadata": {
    "collapsed": false,
    "deletable": true,
    "editable": true
   },
   "outputs": [
    {
     "name": "stdout",
     "output_type": "stream",
     "text": [
      "Extracting ../MNIST_data/train-images-idx3-ubyte.gz\n",
      "Extracting ../MNIST_data/train-labels-idx1-ubyte.gz\n",
      "Extracting ../MNIST_data/t10k-images-idx3-ubyte.gz\n",
      "Extracting ../MNIST_data/t10k-labels-idx1-ubyte.gz\n"
     ]
    }
   ],
   "source": [
    "mnist = input_data.read_data_sets('../MNIST_data', one_hot=True)"
   ]
  },
  {
   "cell_type": "code",
   "execution_count": 4,
   "metadata": {
    "collapsed": false,
    "deletable": true,
    "editable": true
   },
   "outputs": [],
   "source": [
    "train = {}\n",
    "test = {}\n",
    "val = {}\n",
    "train['input'] = mnist.train.images\n",
    "train['output'] = mnist.train.labels\n",
    "test['input'] = mnist.test.images\n",
    "test['output'] = mnist.test.labels\n",
    "val['input'] = mnist.validation.images\n",
    "val['output'] = mnist.validation.labels"
   ]
  },
  {
   "cell_type": "code",
   "execution_count": 5,
   "metadata": {
    "collapsed": false,
    "deletable": true,
    "editable": true
   },
   "outputs": [],
   "source": [
    "# Model parameter\n",
    "image_size = 28*28\n",
    "image_row = 28\n",
    "conv_filter1 = [5, 5]\n",
    "conv_channel1 = 30\n",
    "conv_filter2 = [3, 3]\n",
    "conv_channel2 = 50\n",
    "fc_hidden = 500\n",
    "nclasses = 10\n",
    "\n",
    "# Train parameter\n",
    "learning_rate = 1e-4\n",
    "epoch = 5\n",
    "ntrain = len(train['input'])\n",
    "batch_size = 100\n",
    "nbatch = ntrain//batch_size\n",
    "log_every = 50"
   ]
  },
  {
   "cell_type": "code",
   "execution_count": 6,
   "metadata": {
    "collapsed": false,
    "deletable": true,
    "editable": true
   },
   "outputs": [
    {
     "name": "stdout",
     "output_type": "stream",
     "text": [
      "Reshape [None, 784] -> [None, 28, 28, 1]\n",
      "Convolution layer 1\n",
      "Conv [None, 28, 28, 1] -> [None, 24, 24, 30]\n",
      "Pool [None, 24, 24, 30] -> [None, 12, 12, 30]\n",
      "Convolution layer 2\n",
      "Conv [None, 12, 12, 30] -> [None, 10, 10, 50]\n",
      "Pool [None, 10, 10, 50] -> [None, 5, 5, 50]\n",
      "Flat [None, 5, 5, 50] -> [None, 1250]\n",
      "Fully connected layer 1\n",
      "Linear [None, 1250] -> [None, 500]\n",
      "Fully connected layer 2\n",
      "Linear [None, 500] -> [None, 10]\n"
     ]
    }
   ],
   "source": [
    "x = tf.placeholder(dtype = tf.float32, shape = [None, image_size], name = 'image')\n",
    "y = tf.placeholder(dtype = tf.float32, shape = [None, nclasses], name = 'label')\n",
    "istrain = tf.placeholder(dtype = tf.bool)\n",
    "keep_prob = tf.placeholder(dtype = tf.float32)\n",
    "\n",
    "x_reshape = tf.reshape(x, [-1, image_row, image_row, 1]) # 4D \n",
    "\n",
    "conv_layer1 = {}\n",
    "conv_layer2 = {}\n",
    "fc_layer1 = {}\n",
    "fc_layer2 = {}\n",
    "\n",
    "with tf.variable_scope(\"conv_layer1\"):\n",
    "    conv_layer1['w'] = tf.Variable(initial_value = tf.random_normal(shape = [conv_filter1[0], conv_filter1[1], 1, conv_channel1], mean = 0.0, stddev = 0.1),\n",
    "                              name = 'weight')\n",
    "    conv_layer1['b'] = tf.Variable(initial_value = tf.constant(value=0.01, shape = [conv_channel1]),\n",
    "                              name = 'bias')\n",
    "    conv_layer1['conv'] = tf.nn.conv2d(x_reshape, conv_layer1['w'], strides = [1, 1, 1, 1], padding = \"VALID\") + conv_layer1['b']\n",
    "    conv_layer1['relu'] = tf.nn.relu(conv_layer1['conv'])\n",
    "    conv_layer1['pool'] = tf.nn.max_pool(conv_layer1['relu'], ksize = [1, 2, 2, 1], strides = [1, 2, 2, 1], padding = 'VALID')\n",
    "    conv_layer1['norm'] = batch_norm(conv_layer1['pool'], istrain) \n",
    "    \n",
    "with tf.variable_scope(\"conv_layer2\"):\n",
    "    conv_layer2['w'] = tf.Variable(initial_value = tf.random_normal(shape = [conv_filter2[0], conv_filter2[1], conv_channel1, conv_channel2], mean = 0.0, stddev = 0.1),\n",
    "                              name = 'weight')\n",
    "    conv_layer2['b'] = tf.Variable(initial_value = tf.constant(value=0.01, shape = [conv_channel2]),\n",
    "                              name = 'bias')\n",
    "    conv_layer2['conv'] = tf.nn.conv2d(conv_layer1['norm'], conv_layer2['w'], strides = [1, 1, 1, 1], padding = \"VALID\") + conv_layer2['b']\n",
    "    conv_layer2['relu'] = tf.nn.relu(conv_layer2['conv'])\n",
    "    conv_layer2['pool'] = tf.nn.max_pool(conv_layer2['relu'], ksize = [1, 2, 2, 1], strides = [1, 2, 2, 1], padding = 'VALID')\n",
    "    conv_layer2['norm'] =  batch_norm(conv_layer2['pool'], istrain)\n",
    "    conv_shape = get_shape(conv_layer2['norm'])\n",
    "    flat_size = conv_shape[1]*conv_shape[2]*conv_shape[3]\n",
    "    conv_layer2['flat'] = tf.reshape(conv_layer2['norm'], [-1, flat_size])    \n",
    "    \n",
    "with tf.variable_scope(\"fc_layer1\"):\n",
    "    fc_layer1['w'] = tf.Variable(initial_value = tf.random_normal(shape = [flat_size, fc_hidden])/tf.sqrt(flat_size/2),\n",
    "                              name = 'weight')\n",
    "    fc_layer1['b'] = tf.Variable(initial_value = tf.constant(value=0.01, shape = [fc_hidden]),\n",
    "                              name = 'bias')\n",
    "    fc_layer1['output'] = tf.nn.relu(tf.add(tf.matmul(conv_layer2['flat'], fc_layer1['w']), fc_layer1['b']))    \n",
    "    fc_layer1['dropout'] = tf.nn.dropout(fc_layer1['output'], keep_prob=keep_prob, noise_shape=[1, fc_hidden])    \n",
    "    \n",
    "with tf.variable_scope(\"fc_layer2\"):\n",
    "    fc_layer2['w'] = tf.Variable(initial_value = tf.random_normal(shape = [fc_hidden, nclasses])/tf.sqrt(fc_hidden/2),\n",
    "                              name = 'weight')\n",
    "    fc_layer2['b'] = tf.Variable(initial_value = tf.constant(value=0.01, shape = [nclasses]),\n",
    "                              name = 'bias')\n",
    "    fc_layer2['output'] = tf.nn.softmax(tf.add(tf.matmul(fc_layer1['dropout'], fc_layer2['w']), fc_layer2['b']))    \n",
    "    \n",
    "print(\"Reshape {} -> {}\".format(get_shape(x), get_shape(x_reshape)))\n",
    "print(\"Convolution layer 1\")\n",
    "print(\"Conv {} -> {}\".format(get_shape(x_reshape), get_shape(conv_layer1['conv'])))\n",
    "print(\"Pool {} -> {}\".format(get_shape(conv_layer1['conv']), get_shape(conv_layer1['pool'])))    \n",
    "print(\"Convolution layer 2\")\n",
    "print(\"Conv {} -> {}\".format(get_shape(conv_layer1['pool']), get_shape(conv_layer2['conv'])))\n",
    "print(\"Pool {} -> {}\".format(get_shape(conv_layer2['conv']), get_shape(conv_layer2['pool'])))   \n",
    "print(\"Flat {} -> {}\".format(get_shape(conv_layer2['pool']), get_shape(conv_layer2['flat'])))\n",
    "print(\"Fully connected layer 1\")\n",
    "print(\"Linear {} -> {}\".format(get_shape(conv_layer2['flat']), get_shape(fc_layer1['output'])))\n",
    "print(\"Fully connected layer 2\")\n",
    "print(\"Linear {} -> {}\".format(get_shape(fc_layer1['output']), get_shape(fc_layer2['output'])))"
   ]
  },
  {
   "cell_type": "code",
   "execution_count": 7,
   "metadata": {
    "collapsed": false,
    "deletable": true,
    "editable": true
   },
   "outputs": [
    {
     "name": "stdout",
     "output_type": "stream",
     "text": [
      "conv_layer1/weight:0 : [5, 5, 1, 30]\n",
      "conv_layer1/bias:0 : [30]\n",
      "conv_layer1/batch_norm/beta:0 : [30]\n",
      "conv_layer1/batch_norm/gamma:0 : [30]\n",
      "conv_layer2/weight:0 : [3, 3, 30, 50]\n",
      "conv_layer2/bias:0 : [50]\n",
      "conv_layer2/batch_norm/beta:0 : [50]\n",
      "conv_layer2/batch_norm/gamma:0 : [50]\n",
      "fc_layer1/weight:0 : [1250, 500]\n",
      "fc_layer1/bias:0 : [500]\n",
      "fc_layer2/weight:0 : [500, 10]\n",
      "fc_layer2/bias:0 : [10]\n"
     ]
    }
   ],
   "source": [
    "print_var(\"trainable_variables\")"
   ]
  },
  {
   "cell_type": "code",
   "execution_count": 8,
   "metadata": {
    "collapsed": false,
    "deletable": true,
    "editable": true
   },
   "outputs": [
    {
     "name": "stdout",
     "output_type": "stream",
     "text": [
      "conv_layer1/weight:0 : [5, 5, 1, 30]\n",
      "conv_layer1/bias:0 : [30]\n",
      "conv_layer1/batch_norm/beta:0 : [30]\n",
      "conv_layer1/batch_norm/gamma:0 : [30]\n",
      "conv_layer1/batch_norm/conv_layer1/batch_norm/moments/Squeeze/ExponentialMovingAverage:0 : [30]\n",
      "conv_layer1/batch_norm/conv_layer1/batch_norm/moments/Squeeze_1/ExponentialMovingAverage:0 : [30]\n",
      "conv_layer2/weight:0 : [3, 3, 30, 50]\n",
      "conv_layer2/bias:0 : [50]\n",
      "conv_layer2/batch_norm/beta:0 : [50]\n",
      "conv_layer2/batch_norm/gamma:0 : [50]\n",
      "conv_layer2/batch_norm/conv_layer2/batch_norm/moments/Squeeze/ExponentialMovingAverage:0 : [50]\n",
      "conv_layer2/batch_norm/conv_layer2/batch_norm/moments/Squeeze_1/ExponentialMovingAverage:0 : [50]\n",
      "fc_layer1/weight:0 : [1250, 500]\n",
      "fc_layer1/bias:0 : [500]\n",
      "fc_layer2/weight:0 : [500, 10]\n",
      "fc_layer2/bias:0 : [10]\n"
     ]
    }
   ],
   "source": [
    "print_var(\"variables\")"
   ]
  },
  {
   "cell_type": "code",
   "execution_count": 9,
   "metadata": {
    "collapsed": false,
    "deletable": true,
    "editable": true
   },
   "outputs": [],
   "source": [
    "cross_entropy = -tf.reduce_mean(y*tf.log(clip(fc_layer2['output'])))\n",
    "\n",
    "correct_prediction = tf.equal(tf.argmax(fc_layer2['output'], 1), tf.argmax(y, 1))\n",
    "accuracy = tf.reduce_mean(tf.cast(correct_prediction, tf.float32))\n",
    "\n",
    "run_train = tf.train.AdamOptimizer(learning_rate).minimize(cross_entropy)\n",
    "\n",
    "sess = tf.Session()\n",
    "sess.run(tf.global_variables_initializer())"
   ]
  },
  {
   "cell_type": "code",
   "execution_count": 11,
   "metadata": {
    "collapsed": false,
    "deletable": true,
    "editable": true
   },
   "outputs": [
    {
     "name": "stdout",
     "output_type": "stream",
     "text": [
      "Epoch(1/5) 50 th batch train : 61.0 %, validation : 83.8 %\n",
      "Epoch(1/5) 100 th batch train : 76.0 %, validation : 89.7 %\n",
      "Epoch(1/5) 150 th batch train : 88.0 %, validation : 92.3 %\n",
      "Epoch(1/5) 200 th batch train : 91.0 %, validation : 93.9 %\n",
      "Epoch(1/5) 250 th batch train : 87.0 %, validation : 94.7 %\n",
      "Epoch(1/5) 300 th batch train : 92.0 %, validation : 95.3 %\n",
      "Epoch(1/5) 350 th batch train : 92.0 %, validation : 95.7 %\n",
      "Epoch(1/5) 400 th batch train : 88.0 %, validation : 96.2 %\n",
      "Epoch(1/5) 450 th batch train : 93.0 %, validation : 96.2 %\n",
      "Epoch(1/5) 500 th batch train : 95.0 %, validation : 96.5 %\n",
      "Epoch(1/5) 550 th batch train : 90.0 %, validation : 96.6 %\n",
      "Epoch(2/5) 50 th batch train : 94.0 %, validation : 96.9 %\n",
      "Epoch(2/5) 100 th batch train : 95.0 %, validation : 97.1 %\n",
      "Epoch(2/5) 150 th batch train : 88.0 %, validation : 97.2 %\n",
      "Epoch(2/5) 200 th batch train : 95.0 %, validation : 97.2 %\n",
      "Epoch(2/5) 250 th batch train : 92.0 %, validation : 97.4 %\n",
      "Epoch(2/5) 300 th batch train : 94.0 %, validation : 97.4 %\n",
      "Epoch(2/5) 350 th batch train : 98.0 %, validation : 97.5 %\n",
      "Epoch(2/5) 400 th batch train : 97.0 %, validation : 97.7 %\n",
      "Epoch(2/5) 450 th batch train : 97.0 %, validation : 97.8 %\n",
      "Epoch(2/5) 500 th batch train : 95.0 %, validation : 97.8 %\n",
      "Epoch(2/5) 550 th batch train : 99.0 %, validation : 97.9 %\n",
      "Epoch(3/5) 50 th batch train : 97.0 %, validation : 98.0 %\n",
      "Epoch(3/5) 100 th batch train : 96.0 %, validation : 98.0 %\n",
      "Epoch(3/5) 150 th batch train : 100.0 %, validation : 98.1 %\n",
      "Epoch(3/5) 200 th batch train : 99.0 %, validation : 98.1 %\n",
      "Epoch(3/5) 250 th batch train : 97.0 %, validation : 98.1 %\n",
      "Epoch(3/5) 300 th batch train : 97.0 %, validation : 98.2 %\n",
      "Epoch(3/5) 350 th batch train : 98.0 %, validation : 98.2 %\n",
      "Epoch(3/5) 400 th batch train : 98.0 %, validation : 98.2 %\n",
      "Epoch(3/5) 450 th batch train : 97.0 %, validation : 98.3 %\n",
      "Epoch(3/5) 500 th batch train : 95.0 %, validation : 98.3 %\n",
      "Epoch(3/5) 550 th batch train : 99.0 %, validation : 98.4 %\n",
      "Epoch(4/5) 50 th batch train : 97.0 %, validation : 98.3 %\n",
      "Epoch(4/5) 100 th batch train : 92.0 %, validation : 98.4 %\n",
      "Epoch(4/5) 150 th batch train : 99.0 %, validation : 98.4 %\n",
      "Epoch(4/5) 200 th batch train : 98.0 %, validation : 98.5 %\n",
      "Epoch(4/5) 250 th batch train : 98.0 %, validation : 98.4 %\n",
      "Epoch(4/5) 300 th batch train : 99.0 %, validation : 98.5 %\n",
      "Epoch(4/5) 350 th batch train : 98.0 %, validation : 98.4 %\n",
      "Epoch(4/5) 400 th batch train : 98.0 %, validation : 98.6 %\n",
      "Epoch(4/5) 450 th batch train : 97.0 %, validation : 98.7 %\n",
      "Epoch(4/5) 500 th batch train : 100.0 %, validation : 98.6 %\n",
      "Epoch(4/5) 550 th batch train : 96.0 %, validation : 98.5 %\n",
      "Epoch(5/5) 50 th batch train : 99.0 %, validation : 98.6 %\n",
      "Epoch(5/5) 100 th batch train : 98.0 %, validation : 98.5 %\n",
      "Epoch(5/5) 150 th batch train : 99.0 %, validation : 98.6 %\n",
      "Epoch(5/5) 200 th batch train : 98.0 %, validation : 98.7 %\n",
      "Epoch(5/5) 250 th batch train : 99.0 %, validation : 98.6 %\n",
      "Epoch(5/5) 300 th batch train : 95.0 %, validation : 98.6 %\n",
      "Epoch(5/5) 350 th batch train : 99.0 %, validation : 98.6 %\n",
      "Epoch(5/5) 400 th batch train : 98.0 %, validation : 98.6 %\n",
      "Epoch(5/5) 450 th batch train : 97.0 %, validation : 98.7 %\n",
      "Epoch(5/5) 500 th batch train : 98.0 %, validation : 98.7 %\n",
      "Epoch(5/5) 550 th batch train : 98.0 %, validation : 98.8 %\n",
      "Test accuracy=98.7 %\n"
     ]
    },
    {
     "data": {
      "image/png": "[encoded data removed]",
      "text/plain": [
       "<matplotlib.figure.Figure at 0x7f5c2ba56f98>"
      ]
     },
     "metadata": {},
     "output_type": "display_data"
    }
   ],
   "source": [
    "train_accuracy_tract = []\n",
    "val_accuracy_tract = []\n",
    "\n",
    "for epoch_ in range(epoch):\n",
    "    index = np.arange(len(train['input']))\n",
    "    np.random.shuffle(index)\n",
    "    trX = train['input'][index]\n",
    "    trY = train['output'][index]\n",
    "    val_feed_dict = {x : val['input'], \n",
    "                     y : val['output'],\n",
    "                     istrain : False,\n",
    "                     keep_prob : 1.0}\n",
    "    \n",
    "    for nbatch_ in range(nbatch):\n",
    "        train_feed_dict = {x : trX[batch_size*nbatch_:batch_size*(nbatch_+1)], \n",
    "                           y : trY[batch_size*nbatch_:batch_size*(nbatch_+1)],\n",
    "                           istrain : True,\n",
    "                           keep_prob : 0.5}\n",
    "        sess.run(run_train, feed_dict=train_feed_dict)\n",
    "        \n",
    "        if nbatch_%log_every == log_every - 1:\n",
    "            train_accuracy = 100*sess.run(accuracy, feed_dict=train_feed_dict)\n",
    "            val_accuracy = 100*sess.run(accuracy, feed_dict= val_feed_dict)\n",
    "            train_accuracy_tract.append(train_accuracy)\n",
    "            val_accuracy_tract.append(val_accuracy)\n",
    "            print(\"Epoch(%d/%d) %d th batch train : %.1f %%, validation : %.1f %%\"%(epoch_+1, epoch, nbatch_+1, train_accuracy, val_accuracy))\n",
    "\n",
    "test_feed_dict = {x : test['input'],  \n",
    "                  y : test['output'],\n",
    "                  istrain : False,\n",
    "                  keep_prob : 1.0}\n",
    "\n",
    "test_accuracy = 100*sess.run(accuracy, feed_dict=test_feed_dict)\n",
    "print(\"Test accuracy=%.1f %%\"%(test_accuracy))\n",
    "\n",
    "plt.plot(train_accuracy_tract, 'r-', label = 'Train accuracy')\n",
    "plt.plot(val_accuracy_tract, 'b-', label = 'Validation accuracy')\n",
    "plt.legend()\n",
    "plt.show()"
   ]
  }
 ],
 "metadata": {
  "kernelspec": {
   "display_name": "Python 3",
   "language": "python",
   "name": "python3"
  },
  "language_info": {
   "codemirror_mode": {
    "name": "ipython",
    "version": 3
   },
   "file_extension": ".py",
   "mimetype": "text/x-python",
   "name": "python",
   "nbconvert_exporter": "python",
   "pygments_lexer": "ipython3",
   "version": "3.4.5"
  }
 },
 "nbformat": 4,
 "nbformat_minor": 2
}
