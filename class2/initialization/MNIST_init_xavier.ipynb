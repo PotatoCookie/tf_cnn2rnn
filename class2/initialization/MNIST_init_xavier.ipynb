{
 "cells": [
  {
   "cell_type": "code",
   "execution_count": 1,
   "metadata": {
    "collapsed": false,
    "deletable": true,
    "editable": true
   },
   "outputs": [],
   "source": [
    "from tensorflow.examples.tutorials.mnist import input_data\n",
    "import matplotlib.pyplot as plt\n",
    "import tensorflow as tf\n",
    "import numpy as np"
   ]
  },
  {
   "cell_type": "markdown",
   "metadata": {},
   "source": [
    "# Reference"
   ]
  },
  {
   "cell_type": "markdown",
   "metadata": {},
   "source": [
    "[http://www.khshim.com/archives/641](http://www.khshim.com/archives/641)"
   ]
  },
  {
   "cell_type": "markdown",
   "metadata": {
    "deletable": true,
    "editable": true
   },
   "source": [
    "* MLP **n1**: input layer dimensions  \n",
    "* MLP **n2**: output layer dimensions  \n",
    "* CNN **n1**: input layer maps * each input map pixels  \n",
    "* CNN **n2**: output layer maps * each output map pixels  "
   ]
  },
  {
   "cell_type": "markdown",
   "metadata": {
    "deletable": true,
    "editable": true
   },
   "source": [
    "# Xavier initialization\n",
    "\n",
    "W = np.random.randn(fan_in, fan_out)/np.sqrt(n_1)  \n",
    "$$variance = \\frac{1}{n_1}$$\n",
    "\n",
    "# He's initialization\n",
    "W = np.random.randn(fan_in, fan_out)/np.sqrt(fan_in/2)  \n",
    "$$variance = \\frac{\\sqrt{2}}{n_1}$$\n",
    "\n",
    "* Not too big not too small, but be random"
   ]
  },
  {
   "cell_type": "code",
   "execution_count": 2,
   "metadata": {
    "collapsed": true,
    "deletable": true,
    "editable": true
   },
   "outputs": [],
   "source": [
    "def get_shape(tensor):\n",
    "    \"return the shape of tensor as list\"\n",
    "    return tensor.get_shape().as_list()\n",
    "\n",
    "def print_var(string):\n",
    "    \"print var_name and var_shape in collection named string\"\n",
    "    print(\"\\n\".join([\"{} : {}\".format(v.name, get_shape(v)) for v in tf.get_collection(string)]))\n",
    "    \n",
    "def clip(x, vmax = 1-1e-7, vmin = 1e-7):\n",
    "    \"clip the x between vmax, vmin\"\n",
    "    return tf.clip_by_value(x, clip_value_max=vmax, clip_value_min=vmin)"
   ]
  },
  {
   "cell_type": "code",
   "execution_count": 3,
   "metadata": {
    "collapsed": false,
    "deletable": true,
    "editable": true
   },
   "outputs": [
    {
     "name": "stdout",
     "output_type": "stream",
     "text": [
      "Extracting ../../MNIST_data/train-images-idx3-ubyte.gz\n",
      "Extracting ../../MNIST_data/train-labels-idx1-ubyte.gz\n",
      "Extracting ../../MNIST_data/t10k-images-idx3-ubyte.gz\n",
      "Extracting ../../MNIST_data/t10k-labels-idx1-ubyte.gz\n"
     ]
    }
   ],
   "source": [
    "mnist = input_data.read_data_sets('../../MNIST_data', one_hot=True)"
   ]
  },
  {
   "cell_type": "code",
   "execution_count": 4,
   "metadata": {
    "collapsed": false,
    "deletable": true,
    "editable": true
   },
   "outputs": [],
   "source": [
    "train = {}\n",
    "test = {}\n",
    "val = {}\n",
    "train['input'] = mnist.train.images\n",
    "train['output'] = mnist.train.labels\n",
    "test['input'] = mnist.test.images\n",
    "test['output'] = mnist.test.labels\n",
    "val['input'] = mnist.validation.images\n",
    "val['output'] = mnist.validation.labels"
   ]
  },
  {
   "cell_type": "code",
   "execution_count": 5,
   "metadata": {
    "collapsed": false,
    "deletable": true,
    "editable": true
   },
   "outputs": [],
   "source": [
    "# Model parameter\n",
    "image_size = 28*28\n",
    "hidden1 = 100\n",
    "hidden2 = 100\n",
    "hidden3 = 100\n",
    "hidden4 = 100\n",
    "nclasses = 10\n",
    "\n",
    "# Train parameter\n",
    "learning_rate = 1e-4\n",
    "epoch = 5\n",
    "ntrain = len(train['input'])\n",
    "batch_size = 100\n",
    "nbatch = ntrain//batch_size\n",
    "log_every = 50"
   ]
  },
  {
   "cell_type": "code",
   "execution_count": 6,
   "metadata": {
    "collapsed": false,
    "deletable": true,
    "editable": true
   },
   "outputs": [],
   "source": [
    "x = tf.placeholder(dtype = tf.float32, shape = [None, image_size], name = 'image')\n",
    "y = tf.placeholder(dtype = tf.float32, shape = [None, nclasses], name = 'label')\n",
    "\n",
    "layer1 = {}\n",
    "layer2 = {}\n",
    "layer3 = {}\n",
    "layer4 = {}\n",
    "\n",
    "with tf.variable_scope(\"layer1\"):\n",
    "    layer1['w'] = tf.Variable(initial_value = tf.random_normal(shape = [image_size, hidden1], mean = 0.0, stddev = 1/28),\n",
    "                              name = 'weight')\n",
    "    layer1['b'] = tf.Variable(initial_value = tf.constant(value=0.0, shape = [hidden1]),\n",
    "                              name = 'bias')\n",
    "    layer1['output'] = tf.nn.sigmoid(tf.add(tf.matmul(x, layer1['w']), layer1['b']))\n",
    "\n",
    "with tf.variable_scope(\"layer2\"):\n",
    "    layer2['w'] = tf.Variable(initial_value = tf.random_normal(shape = [hidden1, hidden2], mean = 0.0, stddev = 0.1),\n",
    "                              name = 'weight')\n",
    "    layer2['b'] = tf.Variable(initial_value = tf.constant(value=0.0, shape = [hidden2]),\n",
    "                              name = 'bias')\n",
    "    layer2['output'] = tf.nn.sigmoid(tf.add(tf.matmul(layer1['output'], layer2['w']), layer2['b']))    \n",
    "\n",
    "with tf.variable_scope(\"layer3\"):\n",
    "    layer3['w'] = tf.Variable(initial_value = tf.random_normal(shape = [hidden2, hidden3], mean = 0.0, stddev = 0.1),\n",
    "                              name = 'weight')\n",
    "    layer3['b'] = tf.Variable(initial_value = tf.constant(value=0.0, shape = [hidden3]),\n",
    "                              name = 'bias')\n",
    "    layer3['output'] = tf.nn.sigmoid(tf.add(tf.matmul(layer2['output'], layer3['w']), layer3['b']))    \n",
    "    \n",
    "with tf.variable_scope(\"layer4\"):\n",
    "    layer4['w'] = tf.Variable(initial_value = tf.random_normal(shape = [hidden3, nclasses], mean = 0.0, stddev = 0.1),\n",
    "                              name = 'weight')\n",
    "    layer4['b'] = tf.Variable(initial_value = tf.constant(value=0.0, shape = [nclasses]),\n",
    "                              name = 'bias')\n",
    "    layer4['output'] = tf.nn.softmax(tf.add(tf.matmul(layer3['output'], layer4['w']), layer4['b']))\n"
   ]
  },
  {
   "cell_type": "code",
   "execution_count": 7,
   "metadata": {
    "collapsed": false,
    "deletable": true,
    "editable": true
   },
   "outputs": [
    {
     "name": "stdout",
     "output_type": "stream",
     "text": [
      "layer1/weight:0 : [784, 100]\n",
      "layer1/bias:0 : [100]\n",
      "layer2/weight:0 : [100, 100]\n",
      "layer2/bias:0 : [100]\n",
      "layer3/weight:0 : [100, 100]\n",
      "layer3/bias:0 : [100]\n",
      "layer4/weight:0 : [100, 10]\n",
      "layer4/bias:0 : [10]\n"
     ]
    }
   ],
   "source": [
    "print_var(\"trainable_variables\")"
   ]
  },
  {
   "cell_type": "code",
   "execution_count": 8,
   "metadata": {
    "collapsed": false,
    "deletable": true,
    "editable": true
   },
   "outputs": [],
   "source": [
    "cross_entropy = -tf.reduce_mean(y*tf.log(clip(layer4['output'])))\n",
    "\n",
    "correct_prediction = tf.equal(tf.argmax(layer4['output'], 1), tf.argmax(y, 1))\n",
    "accuracy = tf.reduce_mean(tf.cast(correct_prediction, tf.float32))\n",
    "\n",
    "run_train = tf.train.AdamOptimizer(learning_rate).minimize(cross_entropy)\n",
    "\n",
    "sess = tf.Session()\n",
    "sess.run(tf.global_variables_initializer())"
   ]
  },
  {
   "cell_type": "code",
   "execution_count": 9,
   "metadata": {
    "collapsed": false,
    "deletable": true,
    "editable": true
   },
   "outputs": [
    {
     "name": "stdout",
     "output_type": "stream",
     "text": [
      "Epoch(1/5) 50 th batch train : 13.0 %, validation : 11.3 %\n",
      "Epoch(1/5) 100 th batch train : 16.0 %, validation : 11.3 %\n",
      "Epoch(1/5) 150 th batch train : 15.0 %, validation : 14.9 %\n",
      "Epoch(1/5) 200 th batch train : 26.0 %, validation : 26.3 %\n",
      "Epoch(1/5) 250 th batch train : 20.0 %, validation : 26.8 %\n",
      "Epoch(1/5) 300 th batch train : 39.0 %, validation : 40.2 %\n",
      "Epoch(1/5) 350 th batch train : 39.0 %, validation : 46.2 %\n",
      "Epoch(1/5) 400 th batch train : 61.0 %, validation : 54.9 %\n",
      "Epoch(1/5) 450 th batch train : 66.0 %, validation : 58.2 %\n",
      "Epoch(1/5) 500 th batch train : 63.0 %, validation : 48.9 %\n",
      "Epoch(1/5) 550 th batch train : 52.0 %, validation : 53.8 %\n",
      "Epoch(2/5) 50 th batch train : 62.0 %, validation : 56.3 %\n",
      "Epoch(2/5) 100 th batch train : 55.0 %, validation : 53.3 %\n",
      "Epoch(2/5) 150 th batch train : 51.0 %, validation : 50.2 %\n",
      "Epoch(2/5) 200 th batch train : 52.0 %, validation : 51.6 %\n",
      "Epoch(2/5) 250 th batch train : 61.0 %, validation : 53.5 %\n",
      "Epoch(2/5) 300 th batch train : 57.0 %, validation : 57.2 %\n",
      "Epoch(2/5) 350 th batch train : 66.0 %, validation : 62.2 %\n",
      "Epoch(2/5) 400 th batch train : 58.0 %, validation : 59.8 %\n",
      "Epoch(2/5) 450 th batch train : 64.0 %, validation : 64.1 %\n",
      "Epoch(2/5) 500 th batch train : 58.0 %, validation : 66.6 %\n",
      "Epoch(2/5) 550 th batch train : 69.0 %, validation : 72.7 %\n",
      "Epoch(3/5) 50 th batch train : 71.0 %, validation : 71.3 %\n",
      "Epoch(3/5) 100 th batch train : 70.0 %, validation : 72.3 %\n",
      "Epoch(3/5) 150 th batch train : 68.0 %, validation : 73.2 %\n",
      "Epoch(3/5) 200 th batch train : 69.0 %, validation : 72.9 %\n",
      "Epoch(3/5) 250 th batch train : 71.0 %, validation : 75.8 %\n",
      "Epoch(3/5) 300 th batch train : 78.0 %, validation : 76.0 %\n",
      "Epoch(3/5) 350 th batch train : 79.0 %, validation : 76.8 %\n",
      "Epoch(3/5) 400 th batch train : 78.0 %, validation : 76.5 %\n",
      "Epoch(3/5) 450 th batch train : 75.0 %, validation : 78.5 %\n",
      "Epoch(3/5) 500 th batch train : 83.0 %, validation : 78.6 %\n",
      "Epoch(3/5) 550 th batch train : 80.0 %, validation : 80.1 %\n",
      "Epoch(4/5) 50 th batch train : 82.0 %, validation : 80.5 %\n",
      "Epoch(4/5) 100 th batch train : 80.0 %, validation : 80.3 %\n",
      "Epoch(4/5) 150 th batch train : 81.0 %, validation : 81.0 %\n",
      "Epoch(4/5) 200 th batch train : 79.0 %, validation : 82.1 %\n",
      "Epoch(4/5) 250 th batch train : 80.0 %, validation : 82.4 %\n",
      "Epoch(4/5) 300 th batch train : 84.0 %, validation : 82.6 %\n",
      "Epoch(4/5) 350 th batch train : 86.0 %, validation : 83.5 %\n",
      "Epoch(4/5) 400 th batch train : 84.0 %, validation : 83.7 %\n",
      "Epoch(4/5) 450 th batch train : 84.0 %, validation : 83.7 %\n",
      "Epoch(4/5) 500 th batch train : 82.0 %, validation : 84.0 %\n",
      "Epoch(4/5) 550 th batch train : 87.0 %, validation : 84.4 %\n",
      "Epoch(5/5) 50 th batch train : 89.0 %, validation : 84.7 %\n",
      "Epoch(5/5) 100 th batch train : 83.0 %, validation : 85.1 %\n",
      "Epoch(5/5) 150 th batch train : 86.0 %, validation : 85.3 %\n",
      "Epoch(5/5) 200 th batch train : 83.0 %, validation : 85.7 %\n",
      "Epoch(5/5) 250 th batch train : 89.0 %, validation : 86.1 %\n",
      "Epoch(5/5) 300 th batch train : 84.0 %, validation : 86.1 %\n",
      "Epoch(5/5) 350 th batch train : 89.0 %, validation : 85.8 %\n",
      "Epoch(5/5) 400 th batch train : 91.0 %, validation : 87.0 %\n",
      "Epoch(5/5) 450 th batch train : 86.0 %, validation : 86.9 %\n",
      "Epoch(5/5) 500 th batch train : 82.0 %, validation : 86.9 %\n",
      "Epoch(5/5) 550 th batch train : 87.0 %, validation : 87.2 %\n",
      "Test accuracy=86.8 %\n"
     ]
    },
    {
     "data": {
      "image/png": "[encoded data removed]",
      "text/plain": [
       "<matplotlib.figure.Figure at 0x7fba23aeecf8>"
      ]
     },
     "metadata": {},
     "output_type": "display_data"
    }
   ],
   "source": [
    "train_accuracy_tract = []\n",
    "val_accuracy_tract = []\n",
    "\n",
    "for epoch_ in range(epoch):\n",
    "    index = np.arange(len(train['input']))\n",
    "    np.random.shuffle(index)\n",
    "    trX = train['input'][index]\n",
    "    trY = train['output'][index]\n",
    "    val_feed_dict = {x : val['input'], \n",
    "                     y : val['output']\n",
    "                    }\n",
    "    \n",
    "    for nbatch_ in range(nbatch):\n",
    "        train_feed_dict = {x : trX[batch_size*nbatch_:batch_size*(nbatch_+1)], \n",
    "                           y : trY[batch_size*nbatch_:batch_size*(nbatch_+1)]\n",
    "                          }\n",
    "        sess.run(run_train, feed_dict=train_feed_dict)\n",
    "        \n",
    "        if nbatch_%log_every == log_every - 1:\n",
    "            train_accuracy = 100*sess.run(accuracy, feed_dict=train_feed_dict)\n",
    "            val_accuracy = 100*sess.run(accuracy, feed_dict= val_feed_dict)\n",
    "            train_accuracy_tract.append(train_accuracy)\n",
    "            val_accuracy_tract.append(val_accuracy)\n",
    "            print(\"Epoch(%d/%d) %d th batch train : %.1f %%, validation : %.1f %%\"%(epoch_+1, epoch, nbatch_+1, train_accuracy, val_accuracy))\n",
    "\n",
    "test_feed_dict = {x : test['input'],  \n",
    "                  y : test['output']\n",
    "                 }\n",
    "\n",
    "test_accuracy = 100*sess.run(accuracy, feed_dict=test_feed_dict)\n",
    "print(\"Test accuracy=%.1f %%\"%(test_accuracy))\n",
    "\n",
    "plt.plot(train_accuracy_tract, 'r-', label = 'Train accuracy')\n",
    "plt.plot(val_accuracy_tract, 'b-', label = 'Validation accuracy')\n",
    "plt.legend()\n",
    "plt.show()"
   ]
  }
 ],
 "metadata": {
  "kernelspec": {
   "display_name": "Python 3",
   "language": "python",
   "name": "python3"
  },
  "language_info": {
   "codemirror_mode": {
    "name": "ipython",
    "version": 3
   },
   "file_extension": ".py",
   "mimetype": "text/x-python",
   "name": "python",
   "nbconvert_exporter": "python",
   "pygments_lexer": "ipython3",
   "version": "3.4.5"
  }
 },
 "nbformat": 4,
 "nbformat_minor": 2
}
