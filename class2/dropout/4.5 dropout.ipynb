{
 "cells": [
  {
   "cell_type": "code",
   "execution_count": 1,
   "metadata": {
    "collapsed": true
   },
   "outputs": [],
   "source": [
    "import tensorflow as tf\n",
    "sess = tf.Session()\n",
    "def print_tensor(x):\n",
    "    print(sess.run(x))"
   ]
  },
  {
   "cell_type": "markdown",
   "metadata": {},
   "source": [
    "# tf.nn.dropout(x, keep_prob, noise_shape)\n",
    "* **x** : input\n",
    "* **keep_prob** : (0,1]\n",
    "* **noise_shape** : \n",
    "> default to be shape(x)  \n",
    "> if $noise shape[i] == get shape(x)[i]$\n",
    "=> independent decision  \n",
    "> ex) $shape(x) = [k, l, m, n], [k, 1, 1, n]$\n",
    "dim 1, 2 is determined togther\n",
    "dim 0, 3 is determined independently"
   ]
  },
  {
   "cell_type": "code",
   "execution_count": 2,
   "metadata": {
    "collapsed": false
   },
   "outputs": [
    {
     "name": "stdout",
     "output_type": "stream",
     "text": [
      "x\n",
      "[ 1.  2.  4.  6.]\n",
      "tf.nn.dropout(x, keep_prob = 0.25)\n",
      "[ 0.  8.  0.  0.]\n",
      "[  0.   0.  16.  24.]\n",
      "[  0.   8.  16.   0.]\n"
     ]
    }
   ],
   "source": [
    "x = tf.constant([1., 2., 4., 6.])\n",
    "print(\"x\")\n",
    "print_tensor(x)\n",
    "print(\"tf.nn.dropout(x, keep_prob = 0.25)\")\n",
    "print_tensor(tf.nn.dropout(x, keep_prob=0.25))\n",
    "print_tensor(tf.nn.dropout(x, keep_prob=0.25))\n",
    "print_tensor(tf.nn.dropout(x, keep_prob=0.25))"
   ]
  },
  {
   "cell_type": "code",
   "execution_count": 3,
   "metadata": {
    "collapsed": false
   },
   "outputs": [
    {
     "name": "stdout",
     "output_type": "stream",
     "text": [
      "x : (2, 2, 3)\n",
      "[[[  1.   2.   3.]\n",
      "  [  4.   5.   6.]]\n",
      "\n",
      " [[  7.   8.   9.]\n",
      "  [ 10.  11.  12.]]]\n",
      "tf.nn.dropout(x, keep_prob=0.5, noise_shape=[1, 2, 3])\n",
      "[[[  0.   0.   0.]\n",
      "  [  0.   0.  12.]]\n",
      "\n",
      " [[  0.   0.   0.]\n",
      "  [  0.   0.  24.]]]\n",
      "[[[  0.   4.   6.]\n",
      "  [  0.   0.   0.]]\n",
      "\n",
      " [[  0.  16.  18.]\n",
      "  [  0.   0.   0.]]]\n",
      "[[[  2.   4.   6.]\n",
      "  [  0.   0.   0.]]\n",
      "\n",
      " [[ 14.  16.  18.]\n",
      "  [  0.   0.   0.]]]\n",
      "[[[  2.   0.   0.]\n",
      "  [  0.   0.   0.]]\n",
      "\n",
      " [[ 14.   0.   0.]\n",
      "  [  0.   0.   0.]]]\n",
      "tf.nn.dropout(x, keep_prob=0.5, noise_shape=[2, 1, 3])\n",
      "[[[  0.   4.   6.]\n",
      "  [  0.  10.  12.]]\n",
      "\n",
      " [[  0.  16.   0.]\n",
      "  [  0.  22.   0.]]]\n",
      "[[[  2.   4.   6.]\n",
      "  [  8.  10.  12.]]\n",
      "\n",
      " [[ 14.   0.   0.]\n",
      "  [ 20.   0.   0.]]]\n",
      "[[[  0.   0.   0.]\n",
      "  [  0.   0.   0.]]\n",
      "\n",
      " [[  0.   0.  18.]\n",
      "  [  0.   0.  24.]]]\n",
      "[[[  0.   4.   6.]\n",
      "  [  0.  10.   0.]]\n",
      "\n",
      " [[  0.  16.  18.]\n",
      "  [ 20.   0.  24.]]]\n",
      "tf.nn.dropout(x, keep_prob=0.5, noise_shape=[2, 2, 1])\n",
      "[[[ 2.  4.  6.]\n",
      "  [ 0.  0.  0.]]\n",
      "\n",
      " [[ 0.  0.  0.]\n",
      "  [ 0.  0.  0.]]]\n",
      "[[[  0.   0.   0.]\n",
      "  [  0.   0.   0.]]\n",
      "\n",
      " [[ 14.  16.  18.]\n",
      "  [  0.   0.   0.]]]\n",
      "[[[ 2.  4.  6.]\n",
      "  [ 0.  0.  0.]]\n",
      "\n",
      " [[ 0.  0.  0.]\n",
      "  [ 0.  0.  0.]]]\n",
      "[[[  2.   4.   6.]\n",
      "  [  8.  10.  12.]]\n",
      "\n",
      " [[  0.   0.   0.]\n",
      "  [  0.   0.   0.]]]\n"
     ]
    }
   ],
   "source": [
    "x = tf.constant([[[1.,2.,3.],[4.,5.,6.]],[[7.,8.,9.],[10.,11.,12.]]])\n",
    "print(\"x : {}\".format(x.get_shape()))\n",
    "print_tensor(x)\n",
    "print(\"tf.nn.dropout(x, keep_prob=0.5, noise_shape=[1, 2, 3])\")\n",
    "print_tensor(tf.nn.dropout(x, keep_prob=0.5, noise_shape=[1, 2, 3]))\n",
    "print_tensor(tf.nn.dropout(x, keep_prob=0.5, noise_shape=[1, 2, 3]))\n",
    "print_tensor(tf.nn.dropout(x, keep_prob=0.5, noise_shape=[1, 2, 3]))\n",
    "print_tensor(tf.nn.dropout(x, keep_prob=0.5, noise_shape=[1, 2, 3]))\n",
    "print(\"tf.nn.dropout(x, keep_prob=0.5, noise_shape=[2, 1, 3])\")\n",
    "print_tensor(tf.nn.dropout(x, keep_prob=0.5, noise_shape=[2, 1, 3]))\n",
    "print_tensor(tf.nn.dropout(x, keep_prob=0.5, noise_shape=[2, 1, 3]))\n",
    "print_tensor(tf.nn.dropout(x, keep_prob=0.5, noise_shape=[2, 1, 3]))\n",
    "print_tensor(tf.nn.dropout(x, keep_prob=0.5, noise_shape=[2, 2, 3]))\n",
    "print(\"tf.nn.dropout(x, keep_prob=0.5, noise_shape=[2, 2, 1])\")\n",
    "print_tensor(tf.nn.dropout(x, keep_prob=0.5, noise_shape=[2, 2, 1]))\n",
    "print_tensor(tf.nn.dropout(x, keep_prob=0.5, noise_shape=[2, 2, 1]))\n",
    "print_tensor(tf.nn.dropout(x, keep_prob=0.5, noise_shape=[2, 2, 1]))\n",
    "print_tensor(tf.nn.dropout(x, keep_prob=0.5, noise_shape=[2, 2, 1]))"
   ]
  }
 ],
 "metadata": {
  "kernelspec": {
   "display_name": "Python 3",
   "language": "python",
   "name": "python3"
  },
  "language_info": {
   "codemirror_mode": {
    "name": "ipython",
    "version": 3
   },
   "file_extension": ".py",
   "mimetype": "text/x-python",
   "name": "python",
   "nbconvert_exporter": "python",
   "pygments_lexer": "ipython3",
   "version": "3.4.5"
  }
 },
 "nbformat": 4,
 "nbformat_minor": 2
}
